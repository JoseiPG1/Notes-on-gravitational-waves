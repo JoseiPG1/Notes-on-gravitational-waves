{
 "cells": [
  {
   "cell_type": "markdown",
   "id": "e80674cf-38f2-4c92-be37-25397a274698",
   "metadata": {},
   "source": [
    "# The manifold"
   ]
  },
  {
   "cell_type": "code",
   "execution_count": 1,
   "id": "394becc2-0767-45e2-a0a2-0aed2b91cff3",
   "metadata": {},
   "outputs": [],
   "source": [
    "reset()\n",
    "%display latex"
   ]
  },
  {
   "cell_type": "code",
   "execution_count": 2,
   "id": "5470b0b9-0b61-45d5-8af1-dbd83bae4b56",
   "metadata": {},
   "outputs": [
    {
     "name": "stdout",
     "output_type": "stream",
     "text": [
      "4-dimensional Lorentzian manifold M\n"
     ]
    }
   ],
   "source": [
    "M = Manifold(4, 'M', structure='Lorentzian')\n",
    "print(M)"
   ]
  },
  {
   "cell_type": "code",
   "execution_count": 3,
   "id": "c53de1cf-4e90-415e-b289-4312c8d146e4",
   "metadata": {},
   "outputs": [
    {
     "data": {
      "text/html": [
       "<html>\\(\\displaystyle \\left(M,(\\eta, x, y, z)\\right)\\)</html>"
      ],
      "text/latex": [
       "$\\displaystyle \\left(M,(\\eta, x, y, z)\\right)$"
      ],
      "text/plain": [
       "Chart (M, (eta, x, y, z))"
      ]
     },
     "execution_count": 3,
     "metadata": {},
     "output_type": "execute_result"
    }
   ],
   "source": [
    "U.<eta,x,y,z> = M.chart()\n",
    "U"
   ]
  },
  {
   "cell_type": "code",
   "execution_count": 4,
   "id": "bfa7ae5c-7098-4616-bf30-3bfd0ba7ba5f",
   "metadata": {},
   "outputs": [],
   "source": [
    "epsilon = M.multivector_field(4, latex_name=r'\\epsilon')\n",
    "epsilon[0,1,2,3] = 1"
   ]
  },
  {
   "cell_type": "markdown",
   "id": "90da3d21-4f72-41db-842c-a8bb293dc9fe",
   "metadata": {},
   "source": [
    "## Metric tensor"
   ]
  },
  {
   "cell_type": "code",
   "execution_count": 5,
   "id": "4c24b64b-ca5e-4a62-94bf-2635d1bd1541",
   "metadata": {},
   "outputs": [
    {
     "data": {
      "text/html": [
       "<html>\\(\\displaystyle \\begin{array}{lcl} {g}_{ \\, \\eta \\, \\eta }^{ \\phantom{\\, \\eta}\\phantom{\\, \\eta} } & = & -a\\left(\\eta\\right)^{2} \\\\ {g}_{ \\, x \\, x }^{ \\phantom{\\, x}\\phantom{\\, x} } & = & a\\left(\\eta\\right)^{2} \\\\ {g}_{ \\, y \\, y }^{ \\phantom{\\, y}\\phantom{\\, y} } & = & a\\left(\\eta\\right)^{2} \\\\ {g}_{ \\, z \\, z }^{ \\phantom{\\, z}\\phantom{\\, z} } & = & a\\left(\\eta\\right)^{2} \\end{array}\\)</html>"
      ],
      "text/latex": [
       "$\\displaystyle \\begin{array}{lcl} {g}_{ \\, \\eta \\, \\eta }^{ \\phantom{\\, \\eta}\\phantom{\\, \\eta} } & = & -a\\left(\\eta\\right)^{2} \\\\ {g}_{ \\, x \\, x }^{ \\phantom{\\, x}\\phantom{\\, x} } & = & a\\left(\\eta\\right)^{2} \\\\ {g}_{ \\, y \\, y }^{ \\phantom{\\, y}\\phantom{\\, y} } & = & a\\left(\\eta\\right)^{2} \\\\ {g}_{ \\, z \\, z }^{ \\phantom{\\, z}\\phantom{\\, z} } & = & a\\left(\\eta\\right)^{2} \\end{array}$"
      ],
      "text/plain": [
       "g_eta,eta = -a(eta)^2 \n",
       "g_x,x = a(eta)^2 \n",
       "g_y,y = a(eta)^2 \n",
       "g_z,z = a(eta)^2 "
      ]
     },
     "execution_count": 5,
     "metadata": {},
     "output_type": "execute_result"
    }
   ],
   "source": [
    "a = function('a')(eta)\n",
    "m = M.metric()\n",
    "m[0,0] = -a**2\n",
    "m[1,1] = a**2\n",
    "m[2,2] = a**2\n",
    "m[3,3] = a**2\n",
    "m.display_comp()"
   ]
  },
  {
   "cell_type": "code",
   "execution_count": 6,
   "id": "b000e249-53cc-4b33-877f-cb49d6674168",
   "metadata": {},
   "outputs": [
    {
     "data": {
      "text/html": [
       "<html>\\(\\displaystyle \\begin{array}{llcl} & M & \\longrightarrow & \\mathbb{R} \\\\ & \\left(\\eta, x, y, z\\right) & \\longmapsto & -a\\left(\\eta\\right)^{8} \\end{array}\\)</html>"
      ],
      "text/latex": [
       "$\\displaystyle \\begin{array}{llcl} & M & \\longrightarrow & \\mathbb{R} \\\\ & \\left(\\eta, x, y, z\\right) & \\longmapsto & -a\\left(\\eta\\right)^{8} \\end{array}$"
      ],
      "text/plain": [
       "M → ℝ\n",
       "(eta, x, y, z) ↦ -a(eta)^8"
      ]
     },
     "execution_count": 6,
     "metadata": {},
     "output_type": "execute_result"
    }
   ],
   "source": [
    "det_m = m.det()\n",
    "det_m.display()"
   ]
  },
  {
   "cell_type": "markdown",
   "id": "f781a2bd-f110-4acb-bd2d-aa9293659b04",
   "metadata": {},
   "source": [
    "## Affine connection"
   ]
  },
  {
   "cell_type": "code",
   "execution_count": 7,
   "id": "9f7dfc46-0d52-4a21-9ffd-6738fd2b1709",
   "metadata": {},
   "outputs": [
    {
     "data": {
      "text/html": [
       "<html>\\(\\displaystyle \\nabla\\)</html>"
      ],
      "text/latex": [
       "$\\displaystyle \\nabla$"
      ],
      "text/plain": [
       "Affine connection nabla on the 4-dimensional Lorentzian manifold M"
      ]
     },
     "execution_count": 7,
     "metadata": {},
     "output_type": "execute_result"
    }
   ],
   "source": [
    "nab = M.affine_connection('nabla', r'\\nabla'); \n",
    "nab"
   ]
  },
  {
   "cell_type": "code",
   "execution_count": 8,
   "id": "8fa33fe6-9126-4099-8916-071082333d4f",
   "metadata": {},
   "outputs": [],
   "source": [
    "j = function('j')(eta)\n",
    "l = function('l')(eta)\n",
    "b = function('b')(eta)"
   ]
  },
  {
   "cell_type": "markdown",
   "id": "947f4cff-4216-4abc-83fe-019dbf1d71ba",
   "metadata": {},
   "source": [
    "#### First kind: $\\Gamma^{\\eta}{}_{\\eta\\eta} = j(\\eta)$, Second kind: $\\Gamma^{\\eta}{}_{ij} = l(\\eta)\\delta_{ij}$, Third kind: $\\Gamma^{i}{}_{\\eta j} = b\\eta)\\delta^{i}_{j}$\n"
   ]
  },
  {
   "cell_type": "code",
   "execution_count": 9,
   "id": "ed93292f-0477-4cb5-8057-6b816e98a50d",
   "metadata": {},
   "outputs": [],
   "source": [
    "# first kind\n",
    "nab[0,0,0] = j\n",
    "\n",
    "# second kind\n",
    "nab[0,1,1] = l\n",
    "nab[0,2,2] = l\n",
    "nab[0,3,3] = l\n",
    "\n",
    "# third kind\n",
    "nab[1,1,0] = b\n",
    "nab[1,0,1] = b\n",
    "nab[2,2,0] = b\n",
    "nab[2,0,2] = b\n",
    "nab[3,3,0] = b\n",
    "nab[3,0,3] = b"
   ]
  },
  {
   "cell_type": "markdown",
   "id": "df94a49e-f6c5-4704-8911-42d9a791f91b",
   "metadata": {},
   "source": [
    "### The scalar field"
   ]
  },
  {
   "cell_type": "code",
   "execution_count": 10,
   "id": "13c52a90-7be7-4a87-b918-846fd9bbb8cf",
   "metadata": {},
   "outputs": [
    {
     "data": {
      "text/html": [
       "<html>\\(\\displaystyle \\begin{array}{llcl} & M & \\longrightarrow & \\mathbb{R} \\\\ & \\left(\\eta, x, y, z\\right) & \\longmapsto & \\varphi\\left(\\eta\\right) \\end{array}\\)</html>"
      ],
      "text/latex": [
       "$\\displaystyle \\begin{array}{llcl} & M & \\longrightarrow & \\mathbb{R} \\\\ & \\left(\\eta, x, y, z\\right) & \\longmapsto & \\varphi\\left(\\eta\\right) \\end{array}$"
      ],
      "text/plain": [
       "M → ℝ\n",
       "(eta, x, y, z) ↦ varphi(eta)"
      ]
     },
     "execution_count": 10,
     "metadata": {},
     "output_type": "execute_result"
    }
   ],
   "source": [
    "varphi = var('vp', latex_name=r'\\varphi')\n",
    "vp = function('varphi')(eta)\n",
    "P = M.scalar_field(vp)\n",
    "P.display()"
   ]
  },
  {
   "cell_type": "code",
   "execution_count": 11,
   "id": "1290cb3d-d445-4baa-bd3e-a3e9f748244b",
   "metadata": {},
   "outputs": [
    {
     "data": {
      "text/html": [
       "<html>\\(\\displaystyle \\begin{array}{lcl} X_{ \\, \\eta }^{ \\phantom{\\, \\eta} } & = & \\frac{\\partial\\,\\varphi}{\\partial \\eta} \\end{array}\\)</html>"
      ],
      "text/latex": [
       "$\\displaystyle \\begin{array}{lcl} X_{ \\, \\eta }^{ \\phantom{\\, \\eta} } & = & \\frac{\\partial\\,\\varphi}{\\partial \\eta} \\end{array}$"
      ],
      "text/plain": [
       "X_eta = d(varphi)/deta "
      ]
     },
     "execution_count": 11,
     "metadata": {},
     "output_type": "execute_result"
    }
   ],
   "source": [
    "#Kinetic energy term\n",
    "Ph = nab(P)\n",
    "Ph.display_comp()"
   ]
  },
  {
   "cell_type": "code",
   "execution_count": 12,
   "id": "0c5376d3-f204-4214-a2f5-bcfe7a43522a",
   "metadata": {},
   "outputs": [
    {
     "data": {
      "text/html": [
       "<html>\\(\\displaystyle V\\left(\\varphi\\left(\\eta\\right)\\right)\\)</html>"
      ],
      "text/latex": [
       "$\\displaystyle V\\left(\\varphi\\left(\\eta\\right)\\right)$"
      ],
      "text/plain": [
       "V(varphi(eta))"
      ]
     },
     "execution_count": 12,
     "metadata": {},
     "output_type": "execute_result"
    }
   ],
   "source": [
    "#Potential energy term\n",
    "V = function('V')(vp)\n",
    "V"
   ]
  },
  {
   "cell_type": "markdown",
   "id": "e91e5f06-c713-47ec-b33f-51cd35d9c4e6",
   "metadata": {},
   "source": [
    "## Computation of the Chern-Simons contributions"
   ]
  },
  {
   "cell_type": "code",
   "execution_count": 13,
   "id": "a45891e0-afd8-4f1b-b9eb-549ab6e1c198",
   "metadata": {},
   "outputs": [],
   "source": [
    "Riem = nab.riemann()\n",
    "#Riem.display_comp()"
   ]
  },
  {
   "cell_type": "code",
   "execution_count": 14,
   "id": "0f68d68a-d4a0-4f14-b1bb-a325e3815d15",
   "metadata": {},
   "outputs": [
    {
     "data": {
      "text/html": [
       "<html>\\(\\displaystyle -{\\left(b\\left(\\eta\\right) - j\\left(\\eta\\right)\\right)} l\\left(\\eta\\right) + \\frac{\\partial\\,l}{\\partial \\eta}\\)</html>"
      ],
      "text/latex": [
       "$\\displaystyle -{\\left(b\\left(\\eta\\right) - j\\left(\\eta\\right)\\right)} l\\left(\\eta\\right) + \\frac{\\partial\\,l}{\\partial \\eta}$"
      ],
      "text/plain": [
       "-(b(eta) - j(eta))*l(eta) + d(l)/deta"
      ]
     },
     "execution_count": 14,
     "metadata": {},
     "output_type": "execute_result"
    }
   ],
   "source": [
    "Riem[0,1,0,1]"
   ]
  },
  {
   "cell_type": "code",
   "execution_count": 15,
   "id": "5619a23f-3e19-494c-bec6-219456ea4fd1",
   "metadata": {},
   "outputs": [
    {
     "data": {
      "text/html": [
       "<html>\\(\\displaystyle {\\left(b\\left(\\eta\\right) - j\\left(\\eta\\right)\\right)} l\\left(\\eta\\right) - \\frac{\\partial\\,l}{\\partial \\eta}\\)</html>"
      ],
      "text/latex": [
       "$\\displaystyle {\\left(b\\left(\\eta\\right) - j\\left(\\eta\\right)\\right)} l\\left(\\eta\\right) - \\frac{\\partial\\,l}{\\partial \\eta}$"
      ],
      "text/plain": [
       "(b(eta) - j(eta))*l(eta) - d(l)/deta"
      ]
     },
     "execution_count": 15,
     "metadata": {},
     "output_type": "execute_result"
    }
   ],
   "source": [
    "Riem[0,1,1,0]"
   ]
  },
  {
   "cell_type": "code",
   "execution_count": 16,
   "id": "4d103705-212c-4d28-8bea-4aa9273059b4",
   "metadata": {},
   "outputs": [
    {
     "data": {
      "text/html": [
       "<html>\\(\\displaystyle 0\\)</html>"
      ],
      "text/latex": [
       "$\\displaystyle 0$"
      ],
      "text/plain": [
       "0"
      ]
     },
     "execution_count": 16,
     "metadata": {},
     "output_type": "execute_result"
    }
   ],
   "source": [
    "B1 = epsilon[\"^{mnrs}\"]*Riem[\"^{b}_{amn}\"]\n",
    "B1f = B1[\"^{rsb}_{a}\"]*Ph[\"_{r}\"]\n",
    "B1f.symmetrize(0,1).display()"
   ]
  },
  {
   "cell_type": "code",
   "execution_count": 17,
   "id": "c53d6e7f-9fa8-4d17-a48f-bff681015207",
   "metadata": {},
   "outputs": [
    {
     "data": {
      "text/html": [
       "<html>\\(\\displaystyle \\begin{array}{llcl} \\mathrm{d}0\\left( \\frac{\\partial}{\\partial z } \\right) : & M & \\longrightarrow & \\mathbb{R} \\\\ & \\left(\\eta, x, y, z\\right) & \\longmapsto & 0 \\end{array}\\)</html>"
      ],
      "text/latex": [
       "$\\displaystyle \\begin{array}{llcl} \\mathrm{d}0\\left( \\frac{\\partial}{\\partial z } \\right) : & M & \\longrightarrow & \\mathbb{R} \\\\ & \\left(\\eta, x, y, z\\right) & \\longmapsto & 0 \\end{array}$"
      ],
      "text/plain": [
       "dzero(∂/∂z): M → ℝ\n",
       "   (eta, x, y, z) ↦ 0"
      ]
     },
     "execution_count": 17,
     "metadata": {},
     "output_type": "execute_result"
    }
   ],
   "source": [
    "T2 = Riem[\"^{m}_{ngd}\"]*Riem[\"^{n}_{mab}\"]\n",
    "T21 = epsilon[\"^{abgd}\"]*T2[\"_{gdab}\"]\n",
    "T21.display()"
   ]
  },
  {
   "cell_type": "markdown",
   "id": "020e035f-27be-42e4-bf2e-d10b29816709",
   "metadata": {},
   "source": [
    "### Affine equation"
   ]
  },
  {
   "cell_type": "code",
   "execution_count": 18,
   "id": "afa63af7-ec0f-4f5a-bc22-889cfc71f1f4",
   "metadata": {},
   "outputs": [
    {
     "data": {
      "text/html": [
       "<html>\\(\\displaystyle \\begin{array}{lcl} X_{ \\phantom{\\, \\eta}\\phantom{\\, \\eta} \\, \\eta }^{ \\, \\eta \\, \\eta \\phantom{\\, \\eta} } & = & -2 \\, a\\left(\\eta\\right)^{2} f_{R}\\left(\\eta\\right) j\\left(\\eta\\right) - 2 \\, a\\left(\\eta\\right) f_{R}\\left(\\eta\\right) \\frac{\\partial\\,a}{\\partial \\eta} - a\\left(\\eta\\right)^{2} \\frac{\\partial\\,f_{R}}{\\partial \\eta} \\\\ X_{ \\phantom{\\, \\eta}\\phantom{\\, x} \\, x }^{ \\, \\eta \\, x \\phantom{\\, x} } & = & -a\\left(\\eta\\right)^{2} b\\left(\\eta\\right) f_{R}\\left(\\eta\\right) + a\\left(\\eta\\right)^{2} f_{R}\\left(\\eta\\right) l\\left(\\eta\\right) \\\\ X_{ \\phantom{\\, \\eta}\\phantom{\\, y} \\, y }^{ \\, \\eta \\, y \\phantom{\\, y} } & = & -a\\left(\\eta\\right)^{2} b\\left(\\eta\\right) f_{R}\\left(\\eta\\right) + a\\left(\\eta\\right)^{2} f_{R}\\left(\\eta\\right) l\\left(\\eta\\right) \\\\ X_{ \\phantom{\\, \\eta}\\phantom{\\, z} \\, z }^{ \\, \\eta \\, z \\phantom{\\, z} } & = & -a\\left(\\eta\\right)^{2} b\\left(\\eta\\right) f_{R}\\left(\\eta\\right) + a\\left(\\eta\\right)^{2} f_{R}\\left(\\eta\\right) l\\left(\\eta\\right) \\\\ X_{ \\phantom{\\, x}\\phantom{\\, \\eta} \\, x }^{ \\, x \\, \\eta \\phantom{\\, x} } & = & -a\\left(\\eta\\right)^{2} b\\left(\\eta\\right) f_{R}\\left(\\eta\\right) + a\\left(\\eta\\right)^{2} f_{R}\\left(\\eta\\right) l\\left(\\eta\\right) \\\\ X_{ \\phantom{\\, x}\\phantom{\\, x} \\, \\eta }^{ \\, x \\, x \\phantom{\\, \\eta} } & = & 2 \\, a\\left(\\eta\\right)^{2} b\\left(\\eta\\right) f_{R}\\left(\\eta\\right) + 2 \\, a\\left(\\eta\\right) f_{R}\\left(\\eta\\right) \\frac{\\partial\\,a}{\\partial \\eta} + a\\left(\\eta\\right)^{2} \\frac{\\partial\\,f_{R}}{\\partial \\eta} \\\\ X_{ \\phantom{\\, y}\\phantom{\\, \\eta} \\, y }^{ \\, y \\, \\eta \\phantom{\\, y} } & = & -a\\left(\\eta\\right)^{2} b\\left(\\eta\\right) f_{R}\\left(\\eta\\right) + a\\left(\\eta\\right)^{2} f_{R}\\left(\\eta\\right) l\\left(\\eta\\right) \\\\ X_{ \\phantom{\\, y}\\phantom{\\, y} \\, \\eta }^{ \\, y \\, y \\phantom{\\, \\eta} } & = & 2 \\, a\\left(\\eta\\right)^{2} b\\left(\\eta\\right) f_{R}\\left(\\eta\\right) + 2 \\, a\\left(\\eta\\right) f_{R}\\left(\\eta\\right) \\frac{\\partial\\,a}{\\partial \\eta} + a\\left(\\eta\\right)^{2} \\frac{\\partial\\,f_{R}}{\\partial \\eta} \\\\ X_{ \\phantom{\\, z}\\phantom{\\, \\eta} \\, z }^{ \\, z \\, \\eta \\phantom{\\, z} } & = & -a\\left(\\eta\\right)^{2} b\\left(\\eta\\right) f_{R}\\left(\\eta\\right) + a\\left(\\eta\\right)^{2} f_{R}\\left(\\eta\\right) l\\left(\\eta\\right) \\\\ X_{ \\phantom{\\, z}\\phantom{\\, z} \\, \\eta }^{ \\, z \\, z \\phantom{\\, \\eta} } & = & 2 \\, a\\left(\\eta\\right)^{2} b\\left(\\eta\\right) f_{R}\\left(\\eta\\right) + 2 \\, a\\left(\\eta\\right) f_{R}\\left(\\eta\\right) \\frac{\\partial\\,a}{\\partial \\eta} + a\\left(\\eta\\right)^{2} \\frac{\\partial\\,f_{R}}{\\partial \\eta} \\end{array}\\)</html>"
      ],
      "text/latex": [
       "$\\displaystyle \\begin{array}{lcl} X_{ \\phantom{\\, \\eta}\\phantom{\\, \\eta} \\, \\eta }^{ \\, \\eta \\, \\eta \\phantom{\\, \\eta} } & = & -2 \\, a\\left(\\eta\\right)^{2} f_{R}\\left(\\eta\\right) j\\left(\\eta\\right) - 2 \\, a\\left(\\eta\\right) f_{R}\\left(\\eta\\right) \\frac{\\partial\\,a}{\\partial \\eta} - a\\left(\\eta\\right)^{2} \\frac{\\partial\\,f_{R}}{\\partial \\eta} \\\\ X_{ \\phantom{\\, \\eta}\\phantom{\\, x} \\, x }^{ \\, \\eta \\, x \\phantom{\\, x} } & = & -a\\left(\\eta\\right)^{2} b\\left(\\eta\\right) f_{R}\\left(\\eta\\right) + a\\left(\\eta\\right)^{2} f_{R}\\left(\\eta\\right) l\\left(\\eta\\right) \\\\ X_{ \\phantom{\\, \\eta}\\phantom{\\, y} \\, y }^{ \\, \\eta \\, y \\phantom{\\, y} } & = & -a\\left(\\eta\\right)^{2} b\\left(\\eta\\right) f_{R}\\left(\\eta\\right) + a\\left(\\eta\\right)^{2} f_{R}\\left(\\eta\\right) l\\left(\\eta\\right) \\\\ X_{ \\phantom{\\, \\eta}\\phantom{\\, z} \\, z }^{ \\, \\eta \\, z \\phantom{\\, z} } & = & -a\\left(\\eta\\right)^{2} b\\left(\\eta\\right) f_{R}\\left(\\eta\\right) + a\\left(\\eta\\right)^{2} f_{R}\\left(\\eta\\right) l\\left(\\eta\\right) \\\\ X_{ \\phantom{\\, x}\\phantom{\\, \\eta} \\, x }^{ \\, x \\, \\eta \\phantom{\\, x} } & = & -a\\left(\\eta\\right)^{2} b\\left(\\eta\\right) f_{R}\\left(\\eta\\right) + a\\left(\\eta\\right)^{2} f_{R}\\left(\\eta\\right) l\\left(\\eta\\right) \\\\ X_{ \\phantom{\\, x}\\phantom{\\, x} \\, \\eta }^{ \\, x \\, x \\phantom{\\, \\eta} } & = & 2 \\, a\\left(\\eta\\right)^{2} b\\left(\\eta\\right) f_{R}\\left(\\eta\\right) + 2 \\, a\\left(\\eta\\right) f_{R}\\left(\\eta\\right) \\frac{\\partial\\,a}{\\partial \\eta} + a\\left(\\eta\\right)^{2} \\frac{\\partial\\,f_{R}}{\\partial \\eta} \\\\ X_{ \\phantom{\\, y}\\phantom{\\, \\eta} \\, y }^{ \\, y \\, \\eta \\phantom{\\, y} } & = & -a\\left(\\eta\\right)^{2} b\\left(\\eta\\right) f_{R}\\left(\\eta\\right) + a\\left(\\eta\\right)^{2} f_{R}\\left(\\eta\\right) l\\left(\\eta\\right) \\\\ X_{ \\phantom{\\, y}\\phantom{\\, y} \\, \\eta }^{ \\, y \\, y \\phantom{\\, \\eta} } & = & 2 \\, a\\left(\\eta\\right)^{2} b\\left(\\eta\\right) f_{R}\\left(\\eta\\right) + 2 \\, a\\left(\\eta\\right) f_{R}\\left(\\eta\\right) \\frac{\\partial\\,a}{\\partial \\eta} + a\\left(\\eta\\right)^{2} \\frac{\\partial\\,f_{R}}{\\partial \\eta} \\\\ X_{ \\phantom{\\, z}\\phantom{\\, \\eta} \\, z }^{ \\, z \\, \\eta \\phantom{\\, z} } & = & -a\\left(\\eta\\right)^{2} b\\left(\\eta\\right) f_{R}\\left(\\eta\\right) + a\\left(\\eta\\right)^{2} f_{R}\\left(\\eta\\right) l\\left(\\eta\\right) \\\\ X_{ \\phantom{\\, z}\\phantom{\\, z} \\, \\eta }^{ \\, z \\, z \\phantom{\\, \\eta} } & = & 2 \\, a\\left(\\eta\\right)^{2} b\\left(\\eta\\right) f_{R}\\left(\\eta\\right) + 2 \\, a\\left(\\eta\\right) f_{R}\\left(\\eta\\right) \\frac{\\partial\\,a}{\\partial \\eta} + a\\left(\\eta\\right)^{2} \\frac{\\partial\\,f_{R}}{\\partial \\eta} \\end{array}$"
      ],
      "text/plain": [
       "X^eta,eta_eta = -2*a(eta)^2*f_R(eta)*j(eta) - 2*a(eta)*f_R(eta)*d(a)/deta - a(eta)^2*d(f_R)/deta \n",
       "X^eta,x_x = -a(eta)^2*b(eta)*f_R(eta) + a(eta)^2*f_R(eta)*l(eta) \n",
       "X^eta,y_y = -a(eta)^2*b(eta)*f_R(eta) + a(eta)^2*f_R(eta)*l(eta) \n",
       "X^eta,z_z = -a(eta)^2*b(eta)*f_R(eta) + a(eta)^2*f_R(eta)*l(eta) \n",
       "X^x,eta_x = -a(eta)^2*b(eta)*f_R(eta) + a(eta)^2*f_R(eta)*l(eta) \n",
       "X^x,x_eta = 2*a(eta)^2*b(eta)*f_R(eta) + 2*a(eta)*f_R(eta)*d(a)/deta + a(eta)^2*d(f_R)/deta \n",
       "X^y,eta_y = -a(eta)^2*b(eta)*f_R(eta) + a(eta)^2*f_R(eta)*l(eta) \n",
       "X^y,y_eta = 2*a(eta)^2*b(eta)*f_R(eta) + 2*a(eta)*f_R(eta)*d(a)/deta + a(eta)^2*d(f_R)/deta \n",
       "X^z,eta_z = -a(eta)^2*b(eta)*f_R(eta) + a(eta)^2*f_R(eta)*l(eta) \n",
       "X^z,z_eta = 2*a(eta)^2*b(eta)*f_R(eta) + 2*a(eta)*f_R(eta)*d(a)/deta + a(eta)^2*d(f_R)/deta "
      ]
     },
     "execution_count": 18,
     "metadata": {},
     "output_type": "execute_result"
    }
   ],
   "source": [
    "f_R = function('f_R')(eta)\n",
    "term1 = nab(m.inverse()*a**4*f_R)\n",
    "term1.display_comp()"
   ]
  },
  {
   "cell_type": "code",
   "execution_count": 19,
   "id": "a53352cc-d270-49ff-8db2-9bc776a4557b",
   "metadata": {},
   "outputs": [],
   "source": [
    "# Non homogeneous term to account the covariant derivative of a tensor density\n",
    "T = M.tensor_field(1,2)\n",
    "\n",
    "# first kind\n",
    "T[0,0,0] = j\n",
    "\n",
    "# third kind\n",
    "T[1,1,0] = b\n",
    "T[1,0,1] = b\n",
    "T[2,2,0] = b\n",
    "T[2,0,2] = b\n",
    "T[3,3,0] = b\n",
    "T[3,0,3] = b\n",
    "\n",
    "#T.display_comp()"
   ]
  },
  {
   "cell_type": "code",
   "execution_count": 20,
   "id": "cb022b6d-4830-4c35-90ca-00e7c32d06fe",
   "metadata": {},
   "outputs": [],
   "source": [
    "#for i in range(4):\n",
    "#    for j in range(4):\n",
    "#        for k in range(4):\n",
    "#            summation = 0\n",
    "#            for r in range(4):\n",
    "#                Gamma_term = T[r, r, k].expr()\n",
    "#                summation += Gamma_term\n",
    "#            gmunu = m.inverse()[i, j].expr()\n",
    "#            full_expr = summation * a**4 * gmunu\n",
    "#            show(term1[i,j,k] - full_expr)"
   ]
  },
  {
   "cell_type": "code",
   "execution_count": 21,
   "id": "685b9a12-87bf-479a-8651-a6eb1f720337",
   "metadata": {},
   "outputs": [
    {
     "data": {
      "text/html": [
       "<html>\\(\\displaystyle 3 \\, a\\left(\\eta\\right)^{2} b\\left(\\eta\\right) - 2 \\, a\\left(\\eta\\right) f_{R}\\left(\\eta\\right) \\frac{\\partial\\,a}{\\partial \\eta} - a\\left(\\eta\\right)^{2} \\frac{\\partial\\,f_{R}}{\\partial \\eta} - {\\left(2 \\, a\\left(\\eta\\right)^{2} f_{R}\\left(\\eta\\right) - a\\left(\\eta\\right)^{2}\\right)} j\\left(\\eta\\right)\\)</html>"
      ],
      "text/latex": [
       "$\\displaystyle 3 \\, a\\left(\\eta\\right)^{2} b\\left(\\eta\\right) - 2 \\, a\\left(\\eta\\right) f_{R}\\left(\\eta\\right) \\frac{\\partial\\,a}{\\partial \\eta} - a\\left(\\eta\\right)^{2} \\frac{\\partial\\,f_{R}}{\\partial \\eta} - {\\left(2 \\, a\\left(\\eta\\right)^{2} f_{R}\\left(\\eta\\right) - a\\left(\\eta\\right)^{2}\\right)} j\\left(\\eta\\right)$"
      ],
      "text/plain": [
       "3*a(eta)^2*b(eta) - 2*a(eta)*f_R(eta)*d(a)/deta - a(eta)^2*d(f_R)/deta - (2*a(eta)^2*f_R(eta) - a(eta)^2)*j(eta)"
      ]
     },
     "execution_count": 21,
     "metadata": {},
     "output_type": "execute_result"
    }
   ],
   "source": [
    "# first equation\n",
    "eq1 = term1[0,0,0]-1*(T[0,0,0] + T[1,1,0] + T[2,2,0] + T[3,3,0])*a**4*m.inverse()[0,0]\n",
    "eq1"
   ]
  },
  {
   "cell_type": "code",
   "execution_count": 22,
   "id": "f1c66cc6-235b-4fc5-86b6-a4fd14c544be",
   "metadata": {},
   "outputs": [
    {
     "data": {
      "text/html": [
       "<html>\\(\\displaystyle 2 \\, a\\left(\\eta\\right)^{2} b\\left(\\eta\\right) f_{R}\\left(\\eta\\right) - 3 \\, a\\left(\\eta\\right)^{2} b\\left(\\eta\\right) - a\\left(\\eta\\right)^{2} j\\left(\\eta\\right) + 2 \\, a\\left(\\eta\\right) f_{R}\\left(\\eta\\right) \\frac{\\partial\\,a}{\\partial \\eta} + a\\left(\\eta\\right)^{2} \\frac{\\partial\\,f_{R}}{\\partial \\eta}\\)</html>"
      ],
      "text/latex": [
       "$\\displaystyle 2 \\, a\\left(\\eta\\right)^{2} b\\left(\\eta\\right) f_{R}\\left(\\eta\\right) - 3 \\, a\\left(\\eta\\right)^{2} b\\left(\\eta\\right) - a\\left(\\eta\\right)^{2} j\\left(\\eta\\right) + 2 \\, a\\left(\\eta\\right) f_{R}\\left(\\eta\\right) \\frac{\\partial\\,a}{\\partial \\eta} + a\\left(\\eta\\right)^{2} \\frac{\\partial\\,f_{R}}{\\partial \\eta}$"
      ],
      "text/plain": [
       "2*a(eta)^2*b(eta)*f_R(eta) - 3*a(eta)^2*b(eta) - a(eta)^2*j(eta) + 2*a(eta)*f_R(eta)*d(a)/deta + a(eta)^2*d(f_R)/deta"
      ]
     },
     "execution_count": 22,
     "metadata": {},
     "output_type": "execute_result"
    }
   ],
   "source": [
    "# second equation\n",
    "eq2 = term1[1,1,0]-1*(T[0,0,0] + T[1,1,0] + T[2,2,0] + T[3,3,0])*a**4*m.inverse()[1,1]\n",
    "eq2"
   ]
  },
  {
   "cell_type": "code",
   "execution_count": 23,
   "id": "17a5ee9a-55ab-47e9-a158-3e351d6814e6",
   "metadata": {},
   "outputs": [
    {
     "data": {
      "text/html": [
       "<html>\\(\\displaystyle -a\\left(\\eta\\right)^{2} b\\left(\\eta\\right) f_{R}\\left(\\eta\\right) + a\\left(\\eta\\right)^{2} f_{R}\\left(\\eta\\right) l\\left(\\eta\\right)\\)</html>"
      ],
      "text/latex": [
       "$\\displaystyle -a\\left(\\eta\\right)^{2} b\\left(\\eta\\right) f_{R}\\left(\\eta\\right) + a\\left(\\eta\\right)^{2} f_{R}\\left(\\eta\\right) l\\left(\\eta\\right)$"
      ],
      "text/plain": [
       "-a(eta)^2*b(eta)*f_R(eta) + a(eta)^2*f_R(eta)*l(eta)"
      ]
     },
     "execution_count": 23,
     "metadata": {},
     "output_type": "execute_result"
    }
   ],
   "source": [
    "# third equation\n",
    "eq3 = term1[0,1,1]-1*(T[0,0,1] + T[1,1,1] + T[2,2,1] + T[3,3,1] )*a**4*m.inverse()[0,1]\n",
    "eq3"
   ]
  },
  {
   "cell_type": "code",
   "execution_count": 24,
   "id": "edd100f1-9bbd-4bfb-86e7-acc72899e75a",
   "metadata": {},
   "outputs": [
    {
     "data": {
      "text/html": [
       "<html>\\(\\displaystyle 2 \\, a\\left(\\eta\\right)^{2} b\\left(\\eta\\right) f_{R}\\left(\\eta\\right) - 2 \\, a\\left(\\eta\\right)^{2} f_{R}\\left(\\eta\\right) j\\left(\\eta\\right)\\)</html>"
      ],
      "text/latex": [
       "$\\displaystyle 2 \\, a\\left(\\eta\\right)^{2} b\\left(\\eta\\right) f_{R}\\left(\\eta\\right) - 2 \\, a\\left(\\eta\\right)^{2} f_{R}\\left(\\eta\\right) j\\left(\\eta\\right)$"
      ],
      "text/plain": [
       "2*a(eta)^2*b(eta)*f_R(eta) - 2*a(eta)^2*f_R(eta)*j(eta)"
      ]
     },
     "execution_count": 24,
     "metadata": {},
     "output_type": "execute_result"
    }
   ],
   "source": [
    "eq1 + eq2"
   ]
  },
  {
   "cell_type": "code",
   "execution_count": 59,
   "id": "d7c81fbb-f7d9-4912-96df-2c706299fdef",
   "metadata": {},
   "outputs": [],
   "source": [
    "j = (2*f_R*derivative(a,eta) + a*derivative(f_R,eta))/(4*a - 2*a*f_R)\n",
    "b = j\n",
    "l = j"
   ]
  },
  {
   "cell_type": "code",
   "execution_count": 64,
   "id": "c5c7190c-0c06-4c54-91ad-ffb97556c7ca",
   "metadata": {},
   "outputs": [],
   "source": [
    "# first kind\n",
    "nab[0,0,0] = j\n",
    "\n",
    "# second kind\n",
    "nab[0,1,1] = l\n",
    "nab[0,2,2] = l\n",
    "nab[0,3,3] = l\n",
    "\n",
    "# third kind\n",
    "nab[1,1,0] = b\n",
    "nab[1,0,1] = b\n",
    "nab[2,2,0] = b\n",
    "nab[2,0,2] = b\n",
    "nab[3,3,0] = b\n",
    "nab[3,0,3] = b\n",
    "\n",
    "term1 = nab(m.inverse()*a**4*f_R)\n",
    "#term1.display_comp()\n",
    "\n",
    "# Non homogeneous term to account the covariant derivative of a tensor density\n",
    "T = M.tensor_field(1,2)\n",
    "\n",
    "# first kind\n",
    "T[0,0,0] = j\n",
    "\n",
    "# third kind\n",
    "T[1,1,0] = b\n",
    "T[1,0,1] = b\n",
    "T[2,2,0] = b\n",
    "T[2,0,2] = b\n",
    "T[3,3,0] = b\n",
    "T[3,0,3] = b\n",
    "\n",
    "#T.display_comp()"
   ]
  },
  {
   "cell_type": "code",
   "execution_count": 65,
   "id": "208e6f2e-b93b-422b-872a-07597b21bd0a",
   "metadata": {},
   "outputs": [
    {
     "data": {
      "text/html": [
       "<html>\\(\\displaystyle 0\\)</html>"
      ],
      "text/latex": [
       "$\\displaystyle 0$"
      ],
      "text/plain": [
       "0"
      ]
     },
     "execution_count": 65,
     "metadata": {},
     "output_type": "execute_result"
    }
   ],
   "source": [
    "# first equation\n",
    "term1[0,0,0]-1*(T[0,0,0] + T[1,1,0] + T[2,2,0] + T[3,3,0])*a**4*m.inverse()[0,0]"
   ]
  },
  {
   "cell_type": "code",
   "execution_count": 66,
   "id": "cbd1d850-e233-46f2-87ab-7d99e68aeffb",
   "metadata": {},
   "outputs": [
    {
     "data": {
      "text/html": [
       "<html>\\(\\displaystyle 0\\)</html>"
      ],
      "text/latex": [
       "$\\displaystyle 0$"
      ],
      "text/plain": [
       "0"
      ]
     },
     "execution_count": 66,
     "metadata": {},
     "output_type": "execute_result"
    }
   ],
   "source": [
    "# second equation\n",
    "term1[1,1,0]-1*(T[0,0,0] + T[1,1,0] + T[2,2,0] + T[3,3,0])*a**4*m.inverse()[1,1]"
   ]
  },
  {
   "cell_type": "code",
   "execution_count": 67,
   "id": "5d08d3ac-1fc5-4397-aff7-41bbff48e3d8",
   "metadata": {},
   "outputs": [
    {
     "data": {
      "text/html": [
       "<html>\\(\\displaystyle 0\\)</html>"
      ],
      "text/latex": [
       "$\\displaystyle 0$"
      ],
      "text/plain": [
       "0"
      ]
     },
     "execution_count": 67,
     "metadata": {},
     "output_type": "execute_result"
    }
   ],
   "source": [
    "# third equation\n",
    "term1[0,1,1]-1*(T[0,0,1] + T[1,1,1] + T[2,2,1] + T[3,3,1] )*a**4*m.inverse()[0,1]"
   ]
  },
  {
   "cell_type": "code",
   "execution_count": 68,
   "id": "f933fcd2-443c-4cd7-a3b9-be2439c0c478",
   "metadata": {},
   "outputs": [
    {
     "data": {
      "text/html": [
       "<html>\\(\\displaystyle 0\\)</html>"
      ],
      "text/latex": [
       "$\\displaystyle 0$"
      ],
      "text/plain": [
       "0"
      ]
     },
     "metadata": {},
     "output_type": "display_data"
    },
    {
     "data": {
      "text/html": [
       "<html>\\(\\displaystyle 0\\)</html>"
      ],
      "text/latex": [
       "$\\displaystyle 0$"
      ],
      "text/plain": [
       "0"
      ]
     },
     "metadata": {},
     "output_type": "display_data"
    },
    {
     "data": {
      "text/html": [
       "<html>\\(\\displaystyle 0\\)</html>"
      ],
      "text/latex": [
       "$\\displaystyle 0$"
      ],
      "text/plain": [
       "0"
      ]
     },
     "metadata": {},
     "output_type": "display_data"
    },
    {
     "data": {
      "text/html": [
       "<html>\\(\\displaystyle 0\\)</html>"
      ],
      "text/latex": [
       "$\\displaystyle 0$"
      ],
      "text/plain": [
       "0"
      ]
     },
     "metadata": {},
     "output_type": "display_data"
    },
    {
     "data": {
      "text/html": [
       "<html>\\(\\displaystyle 0\\)</html>"
      ],
      "text/latex": [
       "$\\displaystyle 0$"
      ],
      "text/plain": [
       "0"
      ]
     },
     "metadata": {},
     "output_type": "display_data"
    },
    {
     "data": {
      "text/html": [
       "<html>\\(\\displaystyle 0\\)</html>"
      ],
      "text/latex": [
       "$\\displaystyle 0$"
      ],
      "text/plain": [
       "0"
      ]
     },
     "metadata": {},
     "output_type": "display_data"
    },
    {
     "data": {
      "text/html": [
       "<html>\\(\\displaystyle 0\\)</html>"
      ],
      "text/latex": [
       "$\\displaystyle 0$"
      ],
      "text/plain": [
       "0"
      ]
     },
     "metadata": {},
     "output_type": "display_data"
    },
    {
     "data": {
      "text/html": [
       "<html>\\(\\displaystyle 0\\)</html>"
      ],
      "text/latex": [
       "$\\displaystyle 0$"
      ],
      "text/plain": [
       "0"
      ]
     },
     "metadata": {},
     "output_type": "display_data"
    },
    {
     "data": {
      "text/html": [
       "<html>\\(\\displaystyle 0\\)</html>"
      ],
      "text/latex": [
       "$\\displaystyle 0$"
      ],
      "text/plain": [
       "0"
      ]
     },
     "metadata": {},
     "output_type": "display_data"
    },
    {
     "data": {
      "text/html": [
       "<html>\\(\\displaystyle 0\\)</html>"
      ],
      "text/latex": [
       "$\\displaystyle 0$"
      ],
      "text/plain": [
       "0"
      ]
     },
     "metadata": {},
     "output_type": "display_data"
    },
    {
     "data": {
      "text/html": [
       "<html>\\(\\displaystyle 0\\)</html>"
      ],
      "text/latex": [
       "$\\displaystyle 0$"
      ],
      "text/plain": [
       "0"
      ]
     },
     "metadata": {},
     "output_type": "display_data"
    },
    {
     "data": {
      "text/html": [
       "<html>\\(\\displaystyle 0\\)</html>"
      ],
      "text/latex": [
       "$\\displaystyle 0$"
      ],
      "text/plain": [
       "0"
      ]
     },
     "metadata": {},
     "output_type": "display_data"
    },
    {
     "data": {
      "text/html": [
       "<html>\\(\\displaystyle 0\\)</html>"
      ],
      "text/latex": [
       "$\\displaystyle 0$"
      ],
      "text/plain": [
       "0"
      ]
     },
     "metadata": {},
     "output_type": "display_data"
    },
    {
     "data": {
      "text/html": [
       "<html>\\(\\displaystyle 0\\)</html>"
      ],
      "text/latex": [
       "$\\displaystyle 0$"
      ],
      "text/plain": [
       "0"
      ]
     },
     "metadata": {},
     "output_type": "display_data"
    },
    {
     "data": {
      "text/html": [
       "<html>\\(\\displaystyle 0\\)</html>"
      ],
      "text/latex": [
       "$\\displaystyle 0$"
      ],
      "text/plain": [
       "0"
      ]
     },
     "metadata": {},
     "output_type": "display_data"
    },
    {
     "data": {
      "text/html": [
       "<html>\\(\\displaystyle 0\\)</html>"
      ],
      "text/latex": [
       "$\\displaystyle 0$"
      ],
      "text/plain": [
       "0"
      ]
     },
     "metadata": {},
     "output_type": "display_data"
    },
    {
     "data": {
      "text/html": [
       "<html>\\(\\displaystyle 0\\)</html>"
      ],
      "text/latex": [
       "$\\displaystyle 0$"
      ],
      "text/plain": [
       "0"
      ]
     },
     "metadata": {},
     "output_type": "display_data"
    },
    {
     "data": {
      "text/html": [
       "<html>\\(\\displaystyle 0\\)</html>"
      ],
      "text/latex": [
       "$\\displaystyle 0$"
      ],
      "text/plain": [
       "0"
      ]
     },
     "metadata": {},
     "output_type": "display_data"
    },
    {
     "data": {
      "text/html": [
       "<html>\\(\\displaystyle 0\\)</html>"
      ],
      "text/latex": [
       "$\\displaystyle 0$"
      ],
      "text/plain": [
       "0"
      ]
     },
     "metadata": {},
     "output_type": "display_data"
    },
    {
     "data": {
      "text/html": [
       "<html>\\(\\displaystyle 0\\)</html>"
      ],
      "text/latex": [
       "$\\displaystyle 0$"
      ],
      "text/plain": [
       "0"
      ]
     },
     "metadata": {},
     "output_type": "display_data"
    },
    {
     "data": {
      "text/html": [
       "<html>\\(\\displaystyle 0\\)</html>"
      ],
      "text/latex": [
       "$\\displaystyle 0$"
      ],
      "text/plain": [
       "0"
      ]
     },
     "metadata": {},
     "output_type": "display_data"
    },
    {
     "data": {
      "text/html": [
       "<html>\\(\\displaystyle 0\\)</html>"
      ],
      "text/latex": [
       "$\\displaystyle 0$"
      ],
      "text/plain": [
       "0"
      ]
     },
     "metadata": {},
     "output_type": "display_data"
    },
    {
     "data": {
      "text/html": [
       "<html>\\(\\displaystyle 0\\)</html>"
      ],
      "text/latex": [
       "$\\displaystyle 0$"
      ],
      "text/plain": [
       "0"
      ]
     },
     "metadata": {},
     "output_type": "display_data"
    },
    {
     "data": {
      "text/html": [
       "<html>\\(\\displaystyle 0\\)</html>"
      ],
      "text/latex": [
       "$\\displaystyle 0$"
      ],
      "text/plain": [
       "0"
      ]
     },
     "metadata": {},
     "output_type": "display_data"
    },
    {
     "data": {
      "text/html": [
       "<html>\\(\\displaystyle 0\\)</html>"
      ],
      "text/latex": [
       "$\\displaystyle 0$"
      ],
      "text/plain": [
       "0"
      ]
     },
     "metadata": {},
     "output_type": "display_data"
    },
    {
     "data": {
      "text/html": [
       "<html>\\(\\displaystyle 0\\)</html>"
      ],
      "text/latex": [
       "$\\displaystyle 0$"
      ],
      "text/plain": [
       "0"
      ]
     },
     "metadata": {},
     "output_type": "display_data"
    },
    {
     "data": {
      "text/html": [
       "<html>\\(\\displaystyle 0\\)</html>"
      ],
      "text/latex": [
       "$\\displaystyle 0$"
      ],
      "text/plain": [
       "0"
      ]
     },
     "metadata": {},
     "output_type": "display_data"
    },
    {
     "data": {
      "text/html": [
       "<html>\\(\\displaystyle 0\\)</html>"
      ],
      "text/latex": [
       "$\\displaystyle 0$"
      ],
      "text/plain": [
       "0"
      ]
     },
     "metadata": {},
     "output_type": "display_data"
    },
    {
     "data": {
      "text/html": [
       "<html>\\(\\displaystyle 0\\)</html>"
      ],
      "text/latex": [
       "$\\displaystyle 0$"
      ],
      "text/plain": [
       "0"
      ]
     },
     "metadata": {},
     "output_type": "display_data"
    },
    {
     "data": {
      "text/html": [
       "<html>\\(\\displaystyle 0\\)</html>"
      ],
      "text/latex": [
       "$\\displaystyle 0$"
      ],
      "text/plain": [
       "0"
      ]
     },
     "metadata": {},
     "output_type": "display_data"
    },
    {
     "data": {
      "text/html": [
       "<html>\\(\\displaystyle 0\\)</html>"
      ],
      "text/latex": [
       "$\\displaystyle 0$"
      ],
      "text/plain": [
       "0"
      ]
     },
     "metadata": {},
     "output_type": "display_data"
    },
    {
     "data": {
      "text/html": [
       "<html>\\(\\displaystyle 0\\)</html>"
      ],
      "text/latex": [
       "$\\displaystyle 0$"
      ],
      "text/plain": [
       "0"
      ]
     },
     "metadata": {},
     "output_type": "display_data"
    },
    {
     "data": {
      "text/html": [
       "<html>\\(\\displaystyle 0\\)</html>"
      ],
      "text/latex": [
       "$\\displaystyle 0$"
      ],
      "text/plain": [
       "0"
      ]
     },
     "metadata": {},
     "output_type": "display_data"
    },
    {
     "data": {
      "text/html": [
       "<html>\\(\\displaystyle 0\\)</html>"
      ],
      "text/latex": [
       "$\\displaystyle 0$"
      ],
      "text/plain": [
       "0"
      ]
     },
     "metadata": {},
     "output_type": "display_data"
    },
    {
     "data": {
      "text/html": [
       "<html>\\(\\displaystyle 0\\)</html>"
      ],
      "text/latex": [
       "$\\displaystyle 0$"
      ],
      "text/plain": [
       "0"
      ]
     },
     "metadata": {},
     "output_type": "display_data"
    },
    {
     "data": {
      "text/html": [
       "<html>\\(\\displaystyle 0\\)</html>"
      ],
      "text/latex": [
       "$\\displaystyle 0$"
      ],
      "text/plain": [
       "0"
      ]
     },
     "metadata": {},
     "output_type": "display_data"
    },
    {
     "data": {
      "text/html": [
       "<html>\\(\\displaystyle 0\\)</html>"
      ],
      "text/latex": [
       "$\\displaystyle 0$"
      ],
      "text/plain": [
       "0"
      ]
     },
     "metadata": {},
     "output_type": "display_data"
    },
    {
     "data": {
      "text/html": [
       "<html>\\(\\displaystyle 0\\)</html>"
      ],
      "text/latex": [
       "$\\displaystyle 0$"
      ],
      "text/plain": [
       "0"
      ]
     },
     "metadata": {},
     "output_type": "display_data"
    },
    {
     "data": {
      "text/html": [
       "<html>\\(\\displaystyle 0\\)</html>"
      ],
      "text/latex": [
       "$\\displaystyle 0$"
      ],
      "text/plain": [
       "0"
      ]
     },
     "metadata": {},
     "output_type": "display_data"
    },
    {
     "data": {
      "text/html": [
       "<html>\\(\\displaystyle 0\\)</html>"
      ],
      "text/latex": [
       "$\\displaystyle 0$"
      ],
      "text/plain": [
       "0"
      ]
     },
     "metadata": {},
     "output_type": "display_data"
    },
    {
     "data": {
      "text/html": [
       "<html>\\(\\displaystyle 0\\)</html>"
      ],
      "text/latex": [
       "$\\displaystyle 0$"
      ],
      "text/plain": [
       "0"
      ]
     },
     "metadata": {},
     "output_type": "display_data"
    },
    {
     "data": {
      "text/html": [
       "<html>\\(\\displaystyle 0\\)</html>"
      ],
      "text/latex": [
       "$\\displaystyle 0$"
      ],
      "text/plain": [
       "0"
      ]
     },
     "metadata": {},
     "output_type": "display_data"
    },
    {
     "data": {
      "text/html": [
       "<html>\\(\\displaystyle 0\\)</html>"
      ],
      "text/latex": [
       "$\\displaystyle 0$"
      ],
      "text/plain": [
       "0"
      ]
     },
     "metadata": {},
     "output_type": "display_data"
    },
    {
     "data": {
      "text/html": [
       "<html>\\(\\displaystyle 0\\)</html>"
      ],
      "text/latex": [
       "$\\displaystyle 0$"
      ],
      "text/plain": [
       "0"
      ]
     },
     "metadata": {},
     "output_type": "display_data"
    },
    {
     "data": {
      "text/html": [
       "<html>\\(\\displaystyle 0\\)</html>"
      ],
      "text/latex": [
       "$\\displaystyle 0$"
      ],
      "text/plain": [
       "0"
      ]
     },
     "metadata": {},
     "output_type": "display_data"
    },
    {
     "data": {
      "text/html": [
       "<html>\\(\\displaystyle 0\\)</html>"
      ],
      "text/latex": [
       "$\\displaystyle 0$"
      ],
      "text/plain": [
       "0"
      ]
     },
     "metadata": {},
     "output_type": "display_data"
    },
    {
     "data": {
      "text/html": [
       "<html>\\(\\displaystyle 0\\)</html>"
      ],
      "text/latex": [
       "$\\displaystyle 0$"
      ],
      "text/plain": [
       "0"
      ]
     },
     "metadata": {},
     "output_type": "display_data"
    },
    {
     "data": {
      "text/html": [
       "<html>\\(\\displaystyle 0\\)</html>"
      ],
      "text/latex": [
       "$\\displaystyle 0$"
      ],
      "text/plain": [
       "0"
      ]
     },
     "metadata": {},
     "output_type": "display_data"
    },
    {
     "data": {
      "text/html": [
       "<html>\\(\\displaystyle 0\\)</html>"
      ],
      "text/latex": [
       "$\\displaystyle 0$"
      ],
      "text/plain": [
       "0"
      ]
     },
     "metadata": {},
     "output_type": "display_data"
    },
    {
     "data": {
      "text/html": [
       "<html>\\(\\displaystyle 0\\)</html>"
      ],
      "text/latex": [
       "$\\displaystyle 0$"
      ],
      "text/plain": [
       "0"
      ]
     },
     "metadata": {},
     "output_type": "display_data"
    },
    {
     "data": {
      "text/html": [
       "<html>\\(\\displaystyle 0\\)</html>"
      ],
      "text/latex": [
       "$\\displaystyle 0$"
      ],
      "text/plain": [
       "0"
      ]
     },
     "metadata": {},
     "output_type": "display_data"
    },
    {
     "data": {
      "text/html": [
       "<html>\\(\\displaystyle 0\\)</html>"
      ],
      "text/latex": [
       "$\\displaystyle 0$"
      ],
      "text/plain": [
       "0"
      ]
     },
     "metadata": {},
     "output_type": "display_data"
    },
    {
     "data": {
      "text/html": [
       "<html>\\(\\displaystyle 0\\)</html>"
      ],
      "text/latex": [
       "$\\displaystyle 0$"
      ],
      "text/plain": [
       "0"
      ]
     },
     "metadata": {},
     "output_type": "display_data"
    },
    {
     "data": {
      "text/html": [
       "<html>\\(\\displaystyle 0\\)</html>"
      ],
      "text/latex": [
       "$\\displaystyle 0$"
      ],
      "text/plain": [
       "0"
      ]
     },
     "metadata": {},
     "output_type": "display_data"
    },
    {
     "data": {
      "text/html": [
       "<html>\\(\\displaystyle 0\\)</html>"
      ],
      "text/latex": [
       "$\\displaystyle 0$"
      ],
      "text/plain": [
       "0"
      ]
     },
     "metadata": {},
     "output_type": "display_data"
    },
    {
     "data": {
      "text/html": [
       "<html>\\(\\displaystyle 0\\)</html>"
      ],
      "text/latex": [
       "$\\displaystyle 0$"
      ],
      "text/plain": [
       "0"
      ]
     },
     "metadata": {},
     "output_type": "display_data"
    },
    {
     "data": {
      "text/html": [
       "<html>\\(\\displaystyle 0\\)</html>"
      ],
      "text/latex": [
       "$\\displaystyle 0$"
      ],
      "text/plain": [
       "0"
      ]
     },
     "metadata": {},
     "output_type": "display_data"
    },
    {
     "data": {
      "text/html": [
       "<html>\\(\\displaystyle 0\\)</html>"
      ],
      "text/latex": [
       "$\\displaystyle 0$"
      ],
      "text/plain": [
       "0"
      ]
     },
     "metadata": {},
     "output_type": "display_data"
    },
    {
     "data": {
      "text/html": [
       "<html>\\(\\displaystyle 0\\)</html>"
      ],
      "text/latex": [
       "$\\displaystyle 0$"
      ],
      "text/plain": [
       "0"
      ]
     },
     "metadata": {},
     "output_type": "display_data"
    },
    {
     "data": {
      "text/html": [
       "<html>\\(\\displaystyle 0\\)</html>"
      ],
      "text/latex": [
       "$\\displaystyle 0$"
      ],
      "text/plain": [
       "0"
      ]
     },
     "metadata": {},
     "output_type": "display_data"
    },
    {
     "data": {
      "text/html": [
       "<html>\\(\\displaystyle 0\\)</html>"
      ],
      "text/latex": [
       "$\\displaystyle 0$"
      ],
      "text/plain": [
       "0"
      ]
     },
     "metadata": {},
     "output_type": "display_data"
    },
    {
     "data": {
      "text/html": [
       "<html>\\(\\displaystyle 0\\)</html>"
      ],
      "text/latex": [
       "$\\displaystyle 0$"
      ],
      "text/plain": [
       "0"
      ]
     },
     "metadata": {},
     "output_type": "display_data"
    },
    {
     "data": {
      "text/html": [
       "<html>\\(\\displaystyle 0\\)</html>"
      ],
      "text/latex": [
       "$\\displaystyle 0$"
      ],
      "text/plain": [
       "0"
      ]
     },
     "metadata": {},
     "output_type": "display_data"
    },
    {
     "data": {
      "text/html": [
       "<html>\\(\\displaystyle 0\\)</html>"
      ],
      "text/latex": [
       "$\\displaystyle 0$"
      ],
      "text/plain": [
       "0"
      ]
     },
     "metadata": {},
     "output_type": "display_data"
    }
   ],
   "source": [
    "for i in range(4):\n",
    "    for j in range(4):\n",
    "        for k in range(4):\n",
    "            summation = 0\n",
    "            for r in range(4):\n",
    "                Gamma_term = T[r, r, k].expr()\n",
    "                summation += Gamma_term\n",
    "            gmunu = m.inverse()[i, j].expr()\n",
    "            full_expr = summation * a**4 * gmunu\n",
    "            show(term1[i,j,k] - full_expr)"
   ]
  },
  {
   "cell_type": "markdown",
   "id": "5d5a89e8-8ab3-47fa-a162-79be45152363",
   "metadata": {},
   "source": [
    "## Metric field equation"
   ]
  },
  {
   "cell_type": "code",
   "execution_count": 69,
   "id": "33b9d6c8-e20d-41ea-b095-1f3efde9bbf3",
   "metadata": {},
   "outputs": [
    {
     "data": {
      "text/html": [
       "<html>\\(\\displaystyle \\begin{array}{lcl} X_{ \\, \\eta \\, \\eta }^{ \\phantom{\\, \\eta}\\phantom{\\, \\eta} } & = & -\\frac{3 \\, {\\left(a\\left(\\eta\\right)^{2} \\left(\\frac{\\partial\\,f_{R}}{\\partial \\eta}\\right)^{2} + 2 \\, {\\left(f_{R}\\left(\\eta\\right)^{2} - 2 \\, f_{R}\\left(\\eta\\right)\\right)} \\left(\\frac{\\partial\\,a}{\\partial \\eta}\\right)^{2} + 4 \\, a\\left(\\eta\\right) \\frac{\\partial\\,a}{\\partial \\eta} \\frac{\\partial\\,f_{R}}{\\partial \\eta} - 2 \\, {\\left(a\\left(\\eta\\right) f_{R}\\left(\\eta\\right)^{2} - 2 \\, a\\left(\\eta\\right) f_{R}\\left(\\eta\\right)\\right)} \\frac{\\partial^2\\,a}{\\partial \\eta ^ 2} - {\\left(a\\left(\\eta\\right)^{2} f_{R}\\left(\\eta\\right) - 2 \\, a\\left(\\eta\\right)^{2}\\right)} \\frac{\\partial^2\\,f_{R}}{\\partial \\eta ^ 2}\\right)}}{2 \\, {\\left(a\\left(\\eta\\right)^{2} f_{R}\\left(\\eta\\right)^{2} - 4 \\, a\\left(\\eta\\right)^{2} f_{R}\\left(\\eta\\right) + 4 \\, a\\left(\\eta\\right)^{2}\\right)}} \\\\ X_{ \\, x \\, x }^{ \\phantom{\\, x}\\phantom{\\, x} } & = & \\frac{2 \\, a\\left(\\eta\\right)^{2} \\left(\\frac{\\partial\\,f_{R}}{\\partial \\eta}\\right)^{2} + 2 \\, {\\left(3 \\, f_{R}\\left(\\eta\\right)^{2} - 2 \\, f_{R}\\left(\\eta\\right)\\right)} \\left(\\frac{\\partial\\,a}{\\partial \\eta}\\right)^{2} + 4 \\, {\\left(a\\left(\\eta\\right) f_{R}\\left(\\eta\\right) + a\\left(\\eta\\right)\\right)} \\frac{\\partial\\,a}{\\partial \\eta} \\frac{\\partial\\,f_{R}}{\\partial \\eta} - 2 \\, {\\left(a\\left(\\eta\\right) f_{R}\\left(\\eta\\right)^{2} - 2 \\, a\\left(\\eta\\right) f_{R}\\left(\\eta\\right)\\right)} \\frac{\\partial^2\\,a}{\\partial \\eta ^ 2} - {\\left(a\\left(\\eta\\right)^{2} f_{R}\\left(\\eta\\right) - 2 \\, a\\left(\\eta\\right)^{2}\\right)} \\frac{\\partial^2\\,f_{R}}{\\partial \\eta ^ 2}}{2 \\, {\\left(a\\left(\\eta\\right)^{2} f_{R}\\left(\\eta\\right)^{2} - 4 \\, a\\left(\\eta\\right)^{2} f_{R}\\left(\\eta\\right) + 4 \\, a\\left(\\eta\\right)^{2}\\right)}} \\\\ X_{ \\, y \\, y }^{ \\phantom{\\, y}\\phantom{\\, y} } & = & \\frac{2 \\, a\\left(\\eta\\right)^{2} \\left(\\frac{\\partial\\,f_{R}}{\\partial \\eta}\\right)^{2} + 2 \\, {\\left(3 \\, f_{R}\\left(\\eta\\right)^{2} - 2 \\, f_{R}\\left(\\eta\\right)\\right)} \\left(\\frac{\\partial\\,a}{\\partial \\eta}\\right)^{2} + 4 \\, {\\left(a\\left(\\eta\\right) f_{R}\\left(\\eta\\right) + a\\left(\\eta\\right)\\right)} \\frac{\\partial\\,a}{\\partial \\eta} \\frac{\\partial\\,f_{R}}{\\partial \\eta} - 2 \\, {\\left(a\\left(\\eta\\right) f_{R}\\left(\\eta\\right)^{2} - 2 \\, a\\left(\\eta\\right) f_{R}\\left(\\eta\\right)\\right)} \\frac{\\partial^2\\,a}{\\partial \\eta ^ 2} - {\\left(a\\left(\\eta\\right)^{2} f_{R}\\left(\\eta\\right) - 2 \\, a\\left(\\eta\\right)^{2}\\right)} \\frac{\\partial^2\\,f_{R}}{\\partial \\eta ^ 2}}{2 \\, {\\left(a\\left(\\eta\\right)^{2} f_{R}\\left(\\eta\\right)^{2} - 4 \\, a\\left(\\eta\\right)^{2} f_{R}\\left(\\eta\\right) + 4 \\, a\\left(\\eta\\right)^{2}\\right)}} \\\\ X_{ \\, z \\, z }^{ \\phantom{\\, z}\\phantom{\\, z} } & = & \\frac{2 \\, a\\left(\\eta\\right)^{2} \\left(\\frac{\\partial\\,f_{R}}{\\partial \\eta}\\right)^{2} + 2 \\, {\\left(3 \\, f_{R}\\left(\\eta\\right)^{2} - 2 \\, f_{R}\\left(\\eta\\right)\\right)} \\left(\\frac{\\partial\\,a}{\\partial \\eta}\\right)^{2} + 4 \\, {\\left(a\\left(\\eta\\right) f_{R}\\left(\\eta\\right) + a\\left(\\eta\\right)\\right)} \\frac{\\partial\\,a}{\\partial \\eta} \\frac{\\partial\\,f_{R}}{\\partial \\eta} - 2 \\, {\\left(a\\left(\\eta\\right) f_{R}\\left(\\eta\\right)^{2} - 2 \\, a\\left(\\eta\\right) f_{R}\\left(\\eta\\right)\\right)} \\frac{\\partial^2\\,a}{\\partial \\eta ^ 2} - {\\left(a\\left(\\eta\\right)^{2} f_{R}\\left(\\eta\\right) - 2 \\, a\\left(\\eta\\right)^{2}\\right)} \\frac{\\partial^2\\,f_{R}}{\\partial \\eta ^ 2}}{2 \\, {\\left(a\\left(\\eta\\right)^{2} f_{R}\\left(\\eta\\right)^{2} - 4 \\, a\\left(\\eta\\right)^{2} f_{R}\\left(\\eta\\right) + 4 \\, a\\left(\\eta\\right)^{2}\\right)}} \\end{array}\\)</html>"
      ],
      "text/latex": [
       "$\\displaystyle \\begin{array}{lcl} X_{ \\, \\eta \\, \\eta }^{ \\phantom{\\, \\eta}\\phantom{\\, \\eta} } & = & -\\frac{3 \\, {\\left(a\\left(\\eta\\right)^{2} \\left(\\frac{\\partial\\,f_{R}}{\\partial \\eta}\\right)^{2} + 2 \\, {\\left(f_{R}\\left(\\eta\\right)^{2} - 2 \\, f_{R}\\left(\\eta\\right)\\right)} \\left(\\frac{\\partial\\,a}{\\partial \\eta}\\right)^{2} + 4 \\, a\\left(\\eta\\right) \\frac{\\partial\\,a}{\\partial \\eta} \\frac{\\partial\\,f_{R}}{\\partial \\eta} - 2 \\, {\\left(a\\left(\\eta\\right) f_{R}\\left(\\eta\\right)^{2} - 2 \\, a\\left(\\eta\\right) f_{R}\\left(\\eta\\right)\\right)} \\frac{\\partial^2\\,a}{\\partial \\eta ^ 2} - {\\left(a\\left(\\eta\\right)^{2} f_{R}\\left(\\eta\\right) - 2 \\, a\\left(\\eta\\right)^{2}\\right)} \\frac{\\partial^2\\,f_{R}}{\\partial \\eta ^ 2}\\right)}}{2 \\, {\\left(a\\left(\\eta\\right)^{2} f_{R}\\left(\\eta\\right)^{2} - 4 \\, a\\left(\\eta\\right)^{2} f_{R}\\left(\\eta\\right) + 4 \\, a\\left(\\eta\\right)^{2}\\right)}} \\\\ X_{ \\, x \\, x }^{ \\phantom{\\, x}\\phantom{\\, x} } & = & \\frac{2 \\, a\\left(\\eta\\right)^{2} \\left(\\frac{\\partial\\,f_{R}}{\\partial \\eta}\\right)^{2} + 2 \\, {\\left(3 \\, f_{R}\\left(\\eta\\right)^{2} - 2 \\, f_{R}\\left(\\eta\\right)\\right)} \\left(\\frac{\\partial\\,a}{\\partial \\eta}\\right)^{2} + 4 \\, {\\left(a\\left(\\eta\\right) f_{R}\\left(\\eta\\right) + a\\left(\\eta\\right)\\right)} \\frac{\\partial\\,a}{\\partial \\eta} \\frac{\\partial\\,f_{R}}{\\partial \\eta} - 2 \\, {\\left(a\\left(\\eta\\right) f_{R}\\left(\\eta\\right)^{2} - 2 \\, a\\left(\\eta\\right) f_{R}\\left(\\eta\\right)\\right)} \\frac{\\partial^2\\,a}{\\partial \\eta ^ 2} - {\\left(a\\left(\\eta\\right)^{2} f_{R}\\left(\\eta\\right) - 2 \\, a\\left(\\eta\\right)^{2}\\right)} \\frac{\\partial^2\\,f_{R}}{\\partial \\eta ^ 2}}{2 \\, {\\left(a\\left(\\eta\\right)^{2} f_{R}\\left(\\eta\\right)^{2} - 4 \\, a\\left(\\eta\\right)^{2} f_{R}\\left(\\eta\\right) + 4 \\, a\\left(\\eta\\right)^{2}\\right)}} \\\\ X_{ \\, y \\, y }^{ \\phantom{\\, y}\\phantom{\\, y} } & = & \\frac{2 \\, a\\left(\\eta\\right)^{2} \\left(\\frac{\\partial\\,f_{R}}{\\partial \\eta}\\right)^{2} + 2 \\, {\\left(3 \\, f_{R}\\left(\\eta\\right)^{2} - 2 \\, f_{R}\\left(\\eta\\right)\\right)} \\left(\\frac{\\partial\\,a}{\\partial \\eta}\\right)^{2} + 4 \\, {\\left(a\\left(\\eta\\right) f_{R}\\left(\\eta\\right) + a\\left(\\eta\\right)\\right)} \\frac{\\partial\\,a}{\\partial \\eta} \\frac{\\partial\\,f_{R}}{\\partial \\eta} - 2 \\, {\\left(a\\left(\\eta\\right) f_{R}\\left(\\eta\\right)^{2} - 2 \\, a\\left(\\eta\\right) f_{R}\\left(\\eta\\right)\\right)} \\frac{\\partial^2\\,a}{\\partial \\eta ^ 2} - {\\left(a\\left(\\eta\\right)^{2} f_{R}\\left(\\eta\\right) - 2 \\, a\\left(\\eta\\right)^{2}\\right)} \\frac{\\partial^2\\,f_{R}}{\\partial \\eta ^ 2}}{2 \\, {\\left(a\\left(\\eta\\right)^{2} f_{R}\\left(\\eta\\right)^{2} - 4 \\, a\\left(\\eta\\right)^{2} f_{R}\\left(\\eta\\right) + 4 \\, a\\left(\\eta\\right)^{2}\\right)}} \\\\ X_{ \\, z \\, z }^{ \\phantom{\\, z}\\phantom{\\, z} } & = & \\frac{2 \\, a\\left(\\eta\\right)^{2} \\left(\\frac{\\partial\\,f_{R}}{\\partial \\eta}\\right)^{2} + 2 \\, {\\left(3 \\, f_{R}\\left(\\eta\\right)^{2} - 2 \\, f_{R}\\left(\\eta\\right)\\right)} \\left(\\frac{\\partial\\,a}{\\partial \\eta}\\right)^{2} + 4 \\, {\\left(a\\left(\\eta\\right) f_{R}\\left(\\eta\\right) + a\\left(\\eta\\right)\\right)} \\frac{\\partial\\,a}{\\partial \\eta} \\frac{\\partial\\,f_{R}}{\\partial \\eta} - 2 \\, {\\left(a\\left(\\eta\\right) f_{R}\\left(\\eta\\right)^{2} - 2 \\, a\\left(\\eta\\right) f_{R}\\left(\\eta\\right)\\right)} \\frac{\\partial^2\\,a}{\\partial \\eta ^ 2} - {\\left(a\\left(\\eta\\right)^{2} f_{R}\\left(\\eta\\right) - 2 \\, a\\left(\\eta\\right)^{2}\\right)} \\frac{\\partial^2\\,f_{R}}{\\partial \\eta ^ 2}}{2 \\, {\\left(a\\left(\\eta\\right)^{2} f_{R}\\left(\\eta\\right)^{2} - 4 \\, a\\left(\\eta\\right)^{2} f_{R}\\left(\\eta\\right) + 4 \\, a\\left(\\eta\\right)^{2}\\right)}} \\end{array}$"
      ],
      "text/plain": [
       "X_eta,eta = -3/2*(a(eta)^2*(d(f_R)/deta)^2 + 2*(f_R(eta)^2 - 2*f_R(eta))*(d(a)/deta)^2 + 4*a(eta)*d(a)/deta*d(f_R)/deta - 2*(a(eta)*f_R(eta)^2 - 2*a(eta)*f_R(eta))*d^2(a)/deta^2 - (a(eta)^2*f_R(eta) - 2*a(eta)^2)*d^2(f_R)/deta^2)/(a(eta)^2*f_R(eta)^2 - 4*a(eta)^2*f_R(eta) + 4*a(eta)^2) \n",
       "X_x,x = 1/2*(2*a(eta)^2*(d(f_R)/deta)^2 + 2*(3*f_R(eta)^2 - 2*f_R(eta))*(d(a)/deta)^2 + 4*(a(eta)*f_R(eta) + a(eta))*d(a)/deta*d(f_R)/deta - 2*(a(eta)*f_R(eta)^2 - 2*a(eta)*f_R(eta))*d^2(a)/deta^2 - (a(eta)^2*f_R(eta) - 2*a(eta)^2)*d^2(f_R)/deta^2)/(a(eta)^2*f_R(eta)^2 - 4*a(eta)^2*f_R(eta) + 4*a(eta)^2) \n",
       "X_y,y = 1/2*(2*a(eta)^2*(d(f_R)/deta)^2 + 2*(3*f_R(eta)^2 - 2*f_R(eta))*(d(a)/deta)^2 + 4*(a(eta)*f_R(eta) + a(eta))*d(a)/deta*d(f_R)/deta - 2*(a(eta)*f_R(eta)^2 - 2*a(eta)*f_R(eta))*d^2(a)/deta^2 - (a(eta)^2*f_R(eta) - 2*a(eta)^2)*d^2(f_R)/deta^2)/(a(eta)^2*f_R(eta)^2 - 4*a(eta)^2*f_R(eta) + 4*a(eta)^2) \n",
       "X_z,z = 1/2*(2*a(eta)^2*(d(f_R)/deta)^2 + 2*(3*f_R(eta)^2 - 2*f_R(eta))*(d(a)/deta)^2 + 4*(a(eta)*f_R(eta) + a(eta))*d(a)/deta*d(f_R)/deta - 2*(a(eta)*f_R(eta)^2 - 2*a(eta)*f_R(eta))*d^2(a)/deta^2 - (a(eta)^2*f_R(eta) - 2*a(eta)^2)*d^2(f_R)/deta^2)/(a(eta)^2*f_R(eta)^2 - 4*a(eta)^2*f_R(eta) + 4*a(eta)^2) "
      ]
     },
     "execution_count": 69,
     "metadata": {},
     "output_type": "execute_result"
    }
   ],
   "source": [
    "Ricci = nab.ricci()\n",
    "Ricci.display_comp()"
   ]
  },
  {
   "cell_type": "code",
   "execution_count": 70,
   "id": "2810fdc0-abe0-4187-a24b-d243c2d528b6",
   "metadata": {},
   "outputs": [
    {
     "data": {
      "text/html": [
       "<html>\\(\\displaystyle \\begin{array}{llcl} & M & \\longrightarrow & \\mathbb{R} \\\\ & \\left(\\eta, x, y, z\\right) & \\longmapsto & \\frac{3 \\, {\\left(3 \\, a\\left(\\eta\\right)^{2} \\left(\\frac{\\partial\\,f_{R}}{\\partial \\eta}\\right)^{2} + 8 \\, {\\left(f_{R}\\left(\\eta\\right)^{2} - f_{R}\\left(\\eta\\right)\\right)} \\left(\\frac{\\partial\\,a}{\\partial \\eta}\\right)^{2} + 4 \\, {\\left(a\\left(\\eta\\right) f_{R}\\left(\\eta\\right) + 2 \\, a\\left(\\eta\\right)\\right)} \\frac{\\partial\\,a}{\\partial \\eta} \\frac{\\partial\\,f_{R}}{\\partial \\eta} - 4 \\, {\\left(a\\left(\\eta\\right) f_{R}\\left(\\eta\\right)^{2} - 2 \\, a\\left(\\eta\\right) f_{R}\\left(\\eta\\right)\\right)} \\frac{\\partial^2\\,a}{\\partial \\eta ^ 2} - 2 \\, {\\left(a\\left(\\eta\\right)^{2} f_{R}\\left(\\eta\\right) - 2 \\, a\\left(\\eta\\right)^{2}\\right)} \\frac{\\partial^2\\,f_{R}}{\\partial \\eta ^ 2}\\right)}}{2 \\, {\\left(a\\left(\\eta\\right)^{4} f_{R}\\left(\\eta\\right)^{2} - 4 \\, a\\left(\\eta\\right)^{4} f_{R}\\left(\\eta\\right) + 4 \\, a\\left(\\eta\\right)^{4}\\right)}} \\end{array}\\)</html>"
      ],
      "text/latex": [
       "$\\displaystyle \\begin{array}{llcl} & M & \\longrightarrow & \\mathbb{R} \\\\ & \\left(\\eta, x, y, z\\right) & \\longmapsto & \\frac{3 \\, {\\left(3 \\, a\\left(\\eta\\right)^{2} \\left(\\frac{\\partial\\,f_{R}}{\\partial \\eta}\\right)^{2} + 8 \\, {\\left(f_{R}\\left(\\eta\\right)^{2} - f_{R}\\left(\\eta\\right)\\right)} \\left(\\frac{\\partial\\,a}{\\partial \\eta}\\right)^{2} + 4 \\, {\\left(a\\left(\\eta\\right) f_{R}\\left(\\eta\\right) + 2 \\, a\\left(\\eta\\right)\\right)} \\frac{\\partial\\,a}{\\partial \\eta} \\frac{\\partial\\,f_{R}}{\\partial \\eta} - 4 \\, {\\left(a\\left(\\eta\\right) f_{R}\\left(\\eta\\right)^{2} - 2 \\, a\\left(\\eta\\right) f_{R}\\left(\\eta\\right)\\right)} \\frac{\\partial^2\\,a}{\\partial \\eta ^ 2} - 2 \\, {\\left(a\\left(\\eta\\right)^{2} f_{R}\\left(\\eta\\right) - 2 \\, a\\left(\\eta\\right)^{2}\\right)} \\frac{\\partial^2\\,f_{R}}{\\partial \\eta ^ 2}\\right)}}{2 \\, {\\left(a\\left(\\eta\\right)^{4} f_{R}\\left(\\eta\\right)^{2} - 4 \\, a\\left(\\eta\\right)^{4} f_{R}\\left(\\eta\\right) + 4 \\, a\\left(\\eta\\right)^{4}\\right)}} \\end{array}$"
      ],
      "text/plain": [
       "M → ℝ\n",
       "(eta, x, y, z) ↦ 3/2*(3*a(eta)^2*(d(f_R)/deta)^2 + 8*(f_R(eta)^2 - f_R(eta))*(d(a)/deta)^2 + 4*(a(eta)*f_R(eta) + 2*a(eta))*d(a)/deta*d(f_R)/deta - 4*(a(eta)*f_R(eta)^2 - 2*a(eta)*f_R(eta))*d^2(a)/deta^2 - 2*(a(eta)^2*f_R(eta) - 2*a(eta)^2)*d^2(f_R)/deta^2)/(a(eta)^4*f_R(eta)^2 - 4*a(eta)^4*f_R(eta) + 4*a(eta)^4)"
      ]
     },
     "execution_count": 70,
     "metadata": {},
     "output_type": "execute_result"
    }
   ],
   "source": [
    "(m.inverse()*Ricci)[\"^{mn}_{mn}\"].display()"
   ]
  },
  {
   "cell_type": "code",
   "execution_count": 48,
   "id": "2f49d568-dca8-4f78-b1ff-b6362c6ce10f",
   "metadata": {},
   "outputs": [
    {
     "data": {
      "text/html": [
       "<html>\\(\\displaystyle \\frac{{\\left(X\\left(\\eta\\right)^{2} - 4 \\, X\\left(\\eta\\right) + 4\\right)} a\\left(\\eta\\right)^{4} l\\left(\\eta\\right) - 3 \\, X\\left(\\eta\\right) a\\left(\\eta\\right)^{2} \\left(\\frac{\\partial\\,X}{\\partial \\eta}\\right)^{2} + 3 \\, {\\left(X\\left(\\eta\\right)^{2} - 2 \\, X\\left(\\eta\\right)\\right)} a\\left(\\eta\\right)^{2} \\frac{\\partial^2\\,X}{\\partial \\eta ^ 2} - 12 \\, X\\left(\\eta\\right) a\\left(\\eta\\right) \\frac{\\partial\\,X}{\\partial \\eta} \\frac{\\partial\\,a}{\\partial \\eta} - 6 \\, {\\left(X\\left(\\eta\\right)^{3} - 2 \\, X\\left(\\eta\\right)^{2}\\right)} \\frac{\\partial\\,a}{\\partial \\eta}^{2} + 6 \\, {\\left(X\\left(\\eta\\right)^{3} - 2 \\, X\\left(\\eta\\right)^{2}\\right)} a\\left(\\eta\\right) \\frac{\\partial^2\\,a}{\\partial \\eta ^ 2}}{2 \\, {\\left(X\\left(\\eta\\right)^{3} - 4 \\, X\\left(\\eta\\right)^{2} + 4 \\, X\\left(\\eta\\right)\\right)} a\\left(\\eta\\right)^{2}}\\)</html>"
      ],
      "text/latex": [
       "$\\displaystyle \\frac{{\\left(X\\left(\\eta\\right)^{2} - 4 \\, X\\left(\\eta\\right) + 4\\right)} a\\left(\\eta\\right)^{4} l\\left(\\eta\\right) - 3 \\, X\\left(\\eta\\right) a\\left(\\eta\\right)^{2} \\left(\\frac{\\partial\\,X}{\\partial \\eta}\\right)^{2} + 3 \\, {\\left(X\\left(\\eta\\right)^{2} - 2 \\, X\\left(\\eta\\right)\\right)} a\\left(\\eta\\right)^{2} \\frac{\\partial^2\\,X}{\\partial \\eta ^ 2} - 12 \\, X\\left(\\eta\\right) a\\left(\\eta\\right) \\frac{\\partial\\,X}{\\partial \\eta} \\frac{\\partial\\,a}{\\partial \\eta} - 6 \\, {\\left(X\\left(\\eta\\right)^{3} - 2 \\, X\\left(\\eta\\right)^{2}\\right)} \\frac{\\partial\\,a}{\\partial \\eta}^{2} + 6 \\, {\\left(X\\left(\\eta\\right)^{3} - 2 \\, X\\left(\\eta\\right)^{2}\\right)} a\\left(\\eta\\right) \\frac{\\partial^2\\,a}{\\partial \\eta ^ 2}}{2 \\, {\\left(X\\left(\\eta\\right)^{3} - 4 \\, X\\left(\\eta\\right)^{2} + 4 \\, X\\left(\\eta\\right)\\right)} a\\left(\\eta\\right)^{2}}$"
      ],
      "text/plain": [
       "1/2*((X(eta)^2 - 4*X(eta) + 4)*a(eta)^4*l(eta) - 3*X(eta)*a(eta)^2*(d(X)/deta)^2 + 3*(X(eta)^2 - 2*X(eta))*a(eta)^2*d^2(X)/deta^2 - 12*X(eta)*a(eta)*d(X)/deta*d(a)/deta - 6*(X(eta)^3 - 2*X(eta)^2)*d(a)/deta^2 + 6*(X(eta)^3 - 2*X(eta)^2)*a(eta)*d^2(a)/deta^2)/((X(eta)^3 - 4*X(eta)^2 + 4*X(eta))*a(eta)^2)"
      ]
     },
     "execution_count": 48,
     "metadata": {},
     "output_type": "execute_result"
    }
   ],
   "source": [
    "l = function('l')(eta)\n",
    "(Ricci - 1/2*m*(l/X))[0,0]"
   ]
  },
  {
   "cell_type": "markdown",
   "id": "c81a3bdc-ad1d-4350-b76d-3253a87057e2",
   "metadata": {},
   "source": [
    "## Scalar field equation"
   ]
  },
  {
   "cell_type": "code",
   "execution_count": 34,
   "id": "f6aeb2f7-c1df-4c96-b3ef-caf1db15dae2",
   "metadata": {},
   "outputs": [],
   "source": [
    "theta = function('theta')(eta)\n",
    "SF = M.tensor_field(0,1)\n",
    "SF[0] = derivative(theta, eta)"
   ]
  },
  {
   "cell_type": "code",
   "execution_count": 35,
   "id": "41c8589d-4869-4f8b-8d74-891c09970659",
   "metadata": {},
   "outputs": [
    {
     "data": {
      "text/html": [
       "<html>\\(\\displaystyle \\frac{\\partial\\,\\theta}{\\partial \\eta}\\)</html>"
      ],
      "text/latex": [
       "$\\displaystyle \\frac{\\partial\\,\\theta}{\\partial \\eta}$"
      ],
      "text/plain": [
       "d(theta)/deta"
      ]
     },
     "execution_count": 35,
     "metadata": {},
     "output_type": "execute_result"
    }
   ],
   "source": [
    "SF[0]"
   ]
  },
  {
   "cell_type": "code",
   "execution_count": 36,
   "id": "667c86e1-de27-4564-b4df-0880f939407e",
   "metadata": {},
   "outputs": [
    {
     "data": {
      "text/html": [
       "<html>\\(\\displaystyle \\begin{array}{lcl} X_{ \\, \\eta \\, \\eta }^{ \\phantom{\\, \\eta}\\phantom{\\, \\eta} } & = & \\frac{{\\left(2 \\, f_{R}\\left(\\eta\\right) \\frac{\\partial\\,a}{\\partial \\eta} + a\\left(\\eta\\right) \\frac{\\partial\\,f_{R}}{\\partial \\eta}\\right)} \\frac{\\partial\\,\\theta}{\\partial \\eta} + 2 \\, {\\left(a\\left(\\eta\\right) f_{R}\\left(\\eta\\right) - 2 \\, a\\left(\\eta\\right)\\right)} \\frac{\\partial^2\\,\\theta}{\\partial \\eta ^ 2}}{2 \\, {\\left(a\\left(\\eta\\right) f_{R}\\left(\\eta\\right) - 2 \\, a\\left(\\eta\\right)\\right)}} \\\\ X_{ \\, x \\, x }^{ \\phantom{\\, x}\\phantom{\\, x} } & = & \\frac{{\\left(2 \\, f_{R}\\left(\\eta\\right) \\frac{\\partial\\,a}{\\partial \\eta} + a\\left(\\eta\\right) \\frac{\\partial\\,f_{R}}{\\partial \\eta}\\right)} \\frac{\\partial\\,\\theta}{\\partial \\eta}}{2 \\, {\\left(a\\left(\\eta\\right) f_{R}\\left(\\eta\\right) - 2 \\, a\\left(\\eta\\right)\\right)}} \\\\ X_{ \\, y \\, y }^{ \\phantom{\\, y}\\phantom{\\, y} } & = & \\frac{{\\left(2 \\, f_{R}\\left(\\eta\\right) \\frac{\\partial\\,a}{\\partial \\eta} + a\\left(\\eta\\right) \\frac{\\partial\\,f_{R}}{\\partial \\eta}\\right)} \\frac{\\partial\\,\\theta}{\\partial \\eta}}{2 \\, {\\left(a\\left(\\eta\\right) f_{R}\\left(\\eta\\right) - 2 \\, a\\left(\\eta\\right)\\right)}} \\\\ X_{ \\, z \\, z }^{ \\phantom{\\, z}\\phantom{\\, z} } & = & \\frac{{\\left(2 \\, f_{R}\\left(\\eta\\right) \\frac{\\partial\\,a}{\\partial \\eta} + a\\left(\\eta\\right) \\frac{\\partial\\,f_{R}}{\\partial \\eta}\\right)} \\frac{\\partial\\,\\theta}{\\partial \\eta}}{2 \\, {\\left(a\\left(\\eta\\right) f_{R}\\left(\\eta\\right) - 2 \\, a\\left(\\eta\\right)\\right)}} \\end{array}\\)</html>"
      ],
      "text/latex": [
       "$\\displaystyle \\begin{array}{lcl} X_{ \\, \\eta \\, \\eta }^{ \\phantom{\\, \\eta}\\phantom{\\, \\eta} } & = & \\frac{{\\left(2 \\, f_{R}\\left(\\eta\\right) \\frac{\\partial\\,a}{\\partial \\eta} + a\\left(\\eta\\right) \\frac{\\partial\\,f_{R}}{\\partial \\eta}\\right)} \\frac{\\partial\\,\\theta}{\\partial \\eta} + 2 \\, {\\left(a\\left(\\eta\\right) f_{R}\\left(\\eta\\right) - 2 \\, a\\left(\\eta\\right)\\right)} \\frac{\\partial^2\\,\\theta}{\\partial \\eta ^ 2}}{2 \\, {\\left(a\\left(\\eta\\right) f_{R}\\left(\\eta\\right) - 2 \\, a\\left(\\eta\\right)\\right)}} \\\\ X_{ \\, x \\, x }^{ \\phantom{\\, x}\\phantom{\\, x} } & = & \\frac{{\\left(2 \\, f_{R}\\left(\\eta\\right) \\frac{\\partial\\,a}{\\partial \\eta} + a\\left(\\eta\\right) \\frac{\\partial\\,f_{R}}{\\partial \\eta}\\right)} \\frac{\\partial\\,\\theta}{\\partial \\eta}}{2 \\, {\\left(a\\left(\\eta\\right) f_{R}\\left(\\eta\\right) - 2 \\, a\\left(\\eta\\right)\\right)}} \\\\ X_{ \\, y \\, y }^{ \\phantom{\\, y}\\phantom{\\, y} } & = & \\frac{{\\left(2 \\, f_{R}\\left(\\eta\\right) \\frac{\\partial\\,a}{\\partial \\eta} + a\\left(\\eta\\right) \\frac{\\partial\\,f_{R}}{\\partial \\eta}\\right)} \\frac{\\partial\\,\\theta}{\\partial \\eta}}{2 \\, {\\left(a\\left(\\eta\\right) f_{R}\\left(\\eta\\right) - 2 \\, a\\left(\\eta\\right)\\right)}} \\\\ X_{ \\, z \\, z }^{ \\phantom{\\, z}\\phantom{\\, z} } & = & \\frac{{\\left(2 \\, f_{R}\\left(\\eta\\right) \\frac{\\partial\\,a}{\\partial \\eta} + a\\left(\\eta\\right) \\frac{\\partial\\,f_{R}}{\\partial \\eta}\\right)} \\frac{\\partial\\,\\theta}{\\partial \\eta}}{2 \\, {\\left(a\\left(\\eta\\right) f_{R}\\left(\\eta\\right) - 2 \\, a\\left(\\eta\\right)\\right)}} \\end{array}$"
      ],
      "text/plain": [
       "X_eta,eta = 1/2*((2*f_R(eta)*d(a)/deta + a(eta)*d(f_R)/deta)*d(theta)/deta + 2*(a(eta)*f_R(eta) - 2*a(eta))*d^2(theta)/deta^2)/(a(eta)*f_R(eta) - 2*a(eta)) \n",
       "X_x,x = 1/2*(2*f_R(eta)*d(a)/deta + a(eta)*d(f_R)/deta)*d(theta)/deta/(a(eta)*f_R(eta) - 2*a(eta)) \n",
       "X_y,y = 1/2*(2*f_R(eta)*d(a)/deta + a(eta)*d(f_R)/deta)*d(theta)/deta/(a(eta)*f_R(eta) - 2*a(eta)) \n",
       "X_z,z = 1/2*(2*f_R(eta)*d(a)/deta + a(eta)*d(f_R)/deta)*d(theta)/deta/(a(eta)*f_R(eta) - 2*a(eta)) "
      ]
     },
     "execution_count": 36,
     "metadata": {},
     "output_type": "execute_result"
    }
   ],
   "source": [
    "SF1 = nab(SF)\n",
    "SF1.display_comp()"
   ]
  },
  {
   "cell_type": "code",
   "execution_count": 37,
   "id": "9259398f-f7fc-4942-bd56-b2f75afa8837",
   "metadata": {},
   "outputs": [
    {
     "data": {
      "text/html": [
       "<html>\\(\\displaystyle \\begin{array}{llcl} & M & \\longrightarrow & \\mathbb{R} \\\\ & \\left(\\eta, x, y, z\\right) & \\longmapsto & \\frac{{\\left(2 \\, f_{R}\\left(\\eta\\right) \\frac{\\partial\\,a}{\\partial \\eta} + a\\left(\\eta\\right) \\frac{\\partial\\,f_{R}}{\\partial \\eta}\\right)} \\frac{\\partial\\,\\theta}{\\partial \\eta} - {\\left(a\\left(\\eta\\right) f_{R}\\left(\\eta\\right) - 2 \\, a\\left(\\eta\\right)\\right)} \\frac{\\partial^2\\,\\theta}{\\partial \\eta ^ 2}}{a\\left(\\eta\\right)^{3} f_{R}\\left(\\eta\\right) - 2 \\, a\\left(\\eta\\right)^{3}} \\end{array}\\)</html>"
      ],
      "text/latex": [
       "$\\displaystyle \\begin{array}{llcl} & M & \\longrightarrow & \\mathbb{R} \\\\ & \\left(\\eta, x, y, z\\right) & \\longmapsto & \\frac{{\\left(2 \\, f_{R}\\left(\\eta\\right) \\frac{\\partial\\,a}{\\partial \\eta} + a\\left(\\eta\\right) \\frac{\\partial\\,f_{R}}{\\partial \\eta}\\right)} \\frac{\\partial\\,\\theta}{\\partial \\eta} - {\\left(a\\left(\\eta\\right) f_{R}\\left(\\eta\\right) - 2 \\, a\\left(\\eta\\right)\\right)} \\frac{\\partial^2\\,\\theta}{\\partial \\eta ^ 2}}{a\\left(\\eta\\right)^{3} f_{R}\\left(\\eta\\right) - 2 \\, a\\left(\\eta\\right)^{3}} \\end{array}$"
      ],
      "text/plain": [
       "M → ℝ\n",
       "(eta, x, y, z) ↦ ((2*f_R(eta)*d(a)/deta + a(eta)*d(f_R)/deta)*d(theta)/deta - (a(eta)*f_R(eta) - 2*a(eta))*d^2(theta)/deta^2)/(a(eta)^3*f_R(eta) - 2*a(eta)^3)"
      ]
     },
     "execution_count": 37,
     "metadata": {},
     "output_type": "execute_result"
    }
   ],
   "source": [
    "SF2 = SF1[\"_{mn}\"]*m.inverse()[\"^{mn}\"]\n",
    "SF2.display()"
   ]
  },
  {
   "cell_type": "code",
   "execution_count": null,
   "id": "1114646b-c02f-4007-b461-ff14ba4d06c9",
   "metadata": {},
   "outputs": [],
   "source": []
  }
 ],
 "metadata": {
  "kernelspec": {
   "display_name": "SageMath 10.6",
   "language": "sage",
   "name": "sagemath-10.6"
  },
  "language_info": {
   "codemirror_mode": {
    "name": "ipython",
    "version": 3
   },
   "file_extension": ".py",
   "mimetype": "text/x-python",
   "name": "python",
   "nbconvert_exporter": "python",
   "pygments_lexer": "ipython3",
   "version": "3.12.5"
  }
 },
 "nbformat": 4,
 "nbformat_minor": 5
}
