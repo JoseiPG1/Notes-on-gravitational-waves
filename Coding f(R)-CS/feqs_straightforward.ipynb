{
 "cells": [
  {
   "cell_type": "markdown",
   "id": "e80674cf-38f2-4c92-be37-25397a274698",
   "metadata": {},
   "source": [
    "# The manifold"
   ]
  },
  {
   "cell_type": "code",
   "execution_count": 1,
   "id": "394becc2-0767-45e2-a0a2-0aed2b91cff3",
   "metadata": {},
   "outputs": [],
   "source": [
    "reset()\n",
    "%display latex"
   ]
  },
  {
   "cell_type": "code",
   "execution_count": 2,
   "id": "5470b0b9-0b61-45d5-8af1-dbd83bae4b56",
   "metadata": {},
   "outputs": [
    {
     "name": "stdout",
     "output_type": "stream",
     "text": [
      "4-dimensional Lorentzian manifold M\n"
     ]
    }
   ],
   "source": [
    "M = Manifold(4, 'M', structure='Lorentzian')\n",
    "print(M)"
   ]
  },
  {
   "cell_type": "code",
   "execution_count": 3,
   "id": "c53de1cf-4e90-415e-b289-4312c8d146e4",
   "metadata": {},
   "outputs": [
    {
     "data": {
      "text/html": [
       "<html>\\(\\displaystyle \\left(M,(\\eta, x, y, z)\\right)\\)</html>"
      ],
      "text/latex": [
       "$\\displaystyle \\left(M,(\\eta, x, y, z)\\right)$"
      ],
      "text/plain": [
       "Chart (M, (eta, x, y, z))"
      ]
     },
     "execution_count": 3,
     "metadata": {},
     "output_type": "execute_result"
    }
   ],
   "source": [
    "U.<eta,x,y,z> = M.chart()\n",
    "U"
   ]
  },
  {
   "cell_type": "code",
   "execution_count": 4,
   "id": "bfa7ae5c-7098-4616-bf30-3bfd0ba7ba5f",
   "metadata": {},
   "outputs": [],
   "source": [
    "epsilon = M.multivector_field(4, latex_name=r'\\epsilon')\n",
    "epsilon[0,1,2,3] = 1"
   ]
  },
  {
   "cell_type": "markdown",
   "id": "90da3d21-4f72-41db-842c-a8bb293dc9fe",
   "metadata": {},
   "source": [
    "## Metric tensor"
   ]
  },
  {
   "cell_type": "code",
   "execution_count": 5,
   "id": "4c24b64b-ca5e-4a62-94bf-2635d1bd1541",
   "metadata": {},
   "outputs": [
    {
     "data": {
      "text/html": [
       "<html>\\(\\displaystyle \\begin{array}{lcl} {g}_{ \\, \\eta \\, \\eta }^{ \\phantom{\\, \\eta}\\phantom{\\, \\eta} } & = & -a\\left(\\eta\\right)^{2} \\\\ {g}_{ \\, x \\, x }^{ \\phantom{\\, x}\\phantom{\\, x} } & = & a\\left(\\eta\\right)^{2} \\\\ {g}_{ \\, y \\, y }^{ \\phantom{\\, y}\\phantom{\\, y} } & = & a\\left(\\eta\\right)^{2} \\\\ {g}_{ \\, z \\, z }^{ \\phantom{\\, z}\\phantom{\\, z} } & = & a\\left(\\eta\\right)^{2} \\end{array}\\)</html>"
      ],
      "text/latex": [
       "$\\displaystyle \\begin{array}{lcl} {g}_{ \\, \\eta \\, \\eta }^{ \\phantom{\\, \\eta}\\phantom{\\, \\eta} } & = & -a\\left(\\eta\\right)^{2} \\\\ {g}_{ \\, x \\, x }^{ \\phantom{\\, x}\\phantom{\\, x} } & = & a\\left(\\eta\\right)^{2} \\\\ {g}_{ \\, y \\, y }^{ \\phantom{\\, y}\\phantom{\\, y} } & = & a\\left(\\eta\\right)^{2} \\\\ {g}_{ \\, z \\, z }^{ \\phantom{\\, z}\\phantom{\\, z} } & = & a\\left(\\eta\\right)^{2} \\end{array}$"
      ],
      "text/plain": [
       "g_eta,eta = -a(eta)^2 \n",
       "g_x,x = a(eta)^2 \n",
       "g_y,y = a(eta)^2 \n",
       "g_z,z = a(eta)^2 "
      ]
     },
     "execution_count": 5,
     "metadata": {},
     "output_type": "execute_result"
    }
   ],
   "source": [
    "a = function('a')(eta)\n",
    "m = M.metric()\n",
    "m[0,0] = -a**2\n",
    "m[1,1] = a**2\n",
    "m[2,2] = a**2\n",
    "m[3,3] = a**2\n",
    "m.display_comp()"
   ]
  },
  {
   "cell_type": "code",
   "execution_count": 6,
   "id": "b000e249-53cc-4b33-877f-cb49d6674168",
   "metadata": {},
   "outputs": [
    {
     "data": {
      "text/html": [
       "<html>\\(\\displaystyle \\begin{array}{llcl} & M & \\longrightarrow & \\mathbb{R} \\\\ & \\left(\\eta, x, y, z\\right) & \\longmapsto & -a\\left(\\eta\\right)^{8} \\end{array}\\)</html>"
      ],
      "text/latex": [
       "$\\displaystyle \\begin{array}{llcl} & M & \\longrightarrow & \\mathbb{R} \\\\ & \\left(\\eta, x, y, z\\right) & \\longmapsto & -a\\left(\\eta\\right)^{8} \\end{array}$"
      ],
      "text/plain": [
       "M → ℝ\n",
       "(eta, x, y, z) ↦ -a(eta)^8"
      ]
     },
     "execution_count": 6,
     "metadata": {},
     "output_type": "execute_result"
    }
   ],
   "source": [
    "det_m = m.det()\n",
    "det_m.display()"
   ]
  },
  {
   "cell_type": "markdown",
   "id": "f781a2bd-f110-4acb-bd2d-aa9293659b04",
   "metadata": {},
   "source": [
    "## Affine connection"
   ]
  },
  {
   "cell_type": "code",
   "execution_count": 7,
   "id": "14a7b6f2-2ba3-4884-b30c-82ae8620681f",
   "metadata": {},
   "outputs": [
    {
     "data": {
      "text/html": [
       "<html>\\(\\displaystyle f_{R}\\left(\\eta\\right)\\)</html>"
      ],
      "text/latex": [
       "$\\displaystyle f_{R}\\left(\\eta\\right)$"
      ],
      "text/plain": [
       "f_R(eta)"
      ]
     },
     "execution_count": 7,
     "metadata": {},
     "output_type": "execute_result"
    }
   ],
   "source": [
    "f_R = function('f_R')(eta)\n",
    "f_R"
   ]
  },
  {
   "cell_type": "code",
   "execution_count": 8,
   "id": "8fa33fe6-9126-4099-8916-071082333d4f",
   "metadata": {},
   "outputs": [],
   "source": [
    "# connection\n",
    "nab = M.affine_connection('nabla', r'\\nabla'); \n",
    "\n",
    "# conformal-time dependent functions\n",
    "j = function('j')(eta)\n",
    "l = function('l')(eta)\n",
    "b = function('b')(eta)\n",
    "\n",
    "# solutions to the equation of motion \\nabla_{\\alpha}\\left(\\sqrt{-g}g^{\\mu\\nu}f'(R)\\right) = 0\n",
    "j = (2*f_R*derivative(a,eta) + a*derivative(f_R,eta))/(4*a - 2*a*f_R)\n",
    "l = j\n",
    "b = l"
   ]
  },
  {
   "cell_type": "code",
   "execution_count": 9,
   "id": "ed93292f-0477-4cb5-8057-6b816e98a50d",
   "metadata": {},
   "outputs": [],
   "source": [
    "# first kind\n",
    "nab[0,0,0] = j\n",
    "\n",
    "# second kind\n",
    "nab[0,1,1] = l\n",
    "nab[0,2,2] = l\n",
    "nab[0,3,3] = l\n",
    "\n",
    "# third kind\n",
    "nab[1,1,0] = b\n",
    "nab[1,0,1] = b\n",
    "nab[2,2,0] = b\n",
    "nab[2,0,2] = b\n",
    "nab[3,3,0] = b\n",
    "nab[3,0,3] = b"
   ]
  },
  {
   "cell_type": "markdown",
   "id": "df94a49e-f6c5-4704-8911-42d9a791f91b",
   "metadata": {},
   "source": [
    "### The scalar field"
   ]
  },
  {
   "cell_type": "code",
   "execution_count": 10,
   "id": "13c52a90-7be7-4a87-b918-846fd9bbb8cf",
   "metadata": {},
   "outputs": [
    {
     "data": {
      "text/html": [
       "<html>\\(\\displaystyle \\begin{array}{llcl} & M & \\longrightarrow & \\mathbb{R} \\\\ & \\left(\\eta, x, y, z\\right) & \\longmapsto & \\varphi\\left(\\eta\\right) \\end{array}\\)</html>"
      ],
      "text/latex": [
       "$\\displaystyle \\begin{array}{llcl} & M & \\longrightarrow & \\mathbb{R} \\\\ & \\left(\\eta, x, y, z\\right) & \\longmapsto & \\varphi\\left(\\eta\\right) \\end{array}$"
      ],
      "text/plain": [
       "M → ℝ\n",
       "(eta, x, y, z) ↦ varphi(eta)"
      ]
     },
     "execution_count": 10,
     "metadata": {},
     "output_type": "execute_result"
    }
   ],
   "source": [
    "varphi = var('vp', latex_name=r'\\varphi')\n",
    "vp = function('varphi')(eta)\n",
    "P = M.scalar_field(vp)\n",
    "P.display()"
   ]
  },
  {
   "cell_type": "code",
   "execution_count": 11,
   "id": "1290cb3d-d445-4baa-bd3e-a3e9f748244b",
   "metadata": {},
   "outputs": [
    {
     "data": {
      "text/html": [
       "<html>\\(\\displaystyle \\begin{array}{lcl} X_{ \\, \\eta }^{ \\phantom{\\, \\eta} } & = & \\frac{\\partial\\,\\varphi}{\\partial \\eta} \\end{array}\\)</html>"
      ],
      "text/latex": [
       "$\\displaystyle \\begin{array}{lcl} X_{ \\, \\eta }^{ \\phantom{\\, \\eta} } & = & \\frac{\\partial\\,\\varphi}{\\partial \\eta} \\end{array}$"
      ],
      "text/plain": [
       "X_eta = d(varphi)/deta "
      ]
     },
     "execution_count": 11,
     "metadata": {},
     "output_type": "execute_result"
    }
   ],
   "source": [
    "#Kinetic energy term\n",
    "Ph = nab(P)\n",
    "Ph.display_comp()"
   ]
  },
  {
   "cell_type": "code",
   "execution_count": 12,
   "id": "0c5376d3-f204-4214-a2f5-bcfe7a43522a",
   "metadata": {},
   "outputs": [
    {
     "data": {
      "text/html": [
       "<html>\\(\\displaystyle V\\left(\\varphi\\left(\\eta\\right)\\right)\\)</html>"
      ],
      "text/latex": [
       "$\\displaystyle V\\left(\\varphi\\left(\\eta\\right)\\right)$"
      ],
      "text/plain": [
       "V(varphi(eta))"
      ]
     },
     "execution_count": 12,
     "metadata": {},
     "output_type": "execute_result"
    }
   ],
   "source": [
    "#Potential energy term\n",
    "V = function('V')(vp)\n",
    "V"
   ]
  },
  {
   "cell_type": "markdown",
   "id": "5d5a89e8-8ab3-47fa-a162-79be45152363",
   "metadata": {},
   "source": [
    "## Matter fields"
   ]
  },
  {
   "cell_type": "code",
   "execution_count": 13,
   "id": "c84bb211-e49a-48bb-ba9a-dfb3fcb01d4a",
   "metadata": {},
   "outputs": [],
   "source": [
    "# variables\n",
    "var('k')\n",
    "\n",
    "# density\n",
    "rho = M.scalar_field(function('rho')(eta), name='rho')\n",
    "\n",
    "# pressure\n",
    "p = M.scalar_field(function('p')(eta), name='p')"
   ]
  },
  {
   "cell_type": "code",
   "execution_count": 14,
   "id": "4031adc9-8616-489e-9f2b-152745ad94bf",
   "metadata": {},
   "outputs": [],
   "source": [
    "# perfect fluid four-velocity (rest-frame)\n",
    "u = M.vector_field('u')\n",
    "u[0] = 1/a\n",
    "u_form = u.down(m) # the 1-form associated to u by metric duality"
   ]
  },
  {
   "cell_type": "code",
   "execution_count": 15,
   "id": "b94069a0-c28d-49ea-b351-9ec1963c0791",
   "metadata": {},
   "outputs": [
    {
     "data": {
      "text/html": [
       "<html>\\(\\displaystyle \\begin{array}{lcl} X_{ \\phantom{\\, \\eta} \\, \\eta }^{ \\, \\eta \\phantom{\\, \\eta} } & = & -1 \\end{array}\\)</html>"
      ],
      "text/latex": [
       "$\\displaystyle \\begin{array}{lcl} X_{ \\phantom{\\, \\eta} \\, \\eta }^{ \\, \\eta \\phantom{\\, \\eta} } & = & -1 \\end{array}$"
      ],
      "text/plain": [
       "X^eta_eta = -1 "
      ]
     },
     "execution_count": 15,
     "metadata": {},
     "output_type": "execute_result"
    }
   ],
   "source": [
    "# checking consistency\n",
    "(u_form*u).display_comp()"
   ]
  },
  {
   "cell_type": "code",
   "execution_count": 16,
   "id": "47a9a05f-20ec-4eaf-99e5-36e492c79272",
   "metadata": {},
   "outputs": [
    {
     "data": {
      "text/html": [
       "<html>\\(\\displaystyle a\\left(\\eta\\right)^{2} \\rho\\left(\\eta\\right) \\mathrm{d} \\eta\\otimes \\mathrm{d} \\eta + a\\left(\\eta\\right)^{2} p\\left(\\eta\\right) \\mathrm{d} x\\otimes \\mathrm{d} x + a\\left(\\eta\\right)^{2} p\\left(\\eta\\right) \\mathrm{d} y\\otimes \\mathrm{d} y + a\\left(\\eta\\right)^{2} p\\left(\\eta\\right) \\mathrm{d} z\\otimes \\mathrm{d} z\\)</html>"
      ],
      "text/latex": [
       "$\\displaystyle a\\left(\\eta\\right)^{2} \\rho\\left(\\eta\\right) \\mathrm{d} \\eta\\otimes \\mathrm{d} \\eta + a\\left(\\eta\\right)^{2} p\\left(\\eta\\right) \\mathrm{d} x\\otimes \\mathrm{d} x + a\\left(\\eta\\right)^{2} p\\left(\\eta\\right) \\mathrm{d} y\\otimes \\mathrm{d} y + a\\left(\\eta\\right)^{2} p\\left(\\eta\\right) \\mathrm{d} z\\otimes \\mathrm{d} z$"
      ],
      "text/plain": [
       "a(eta)^2*rho(eta) deta⊗deta + a(eta)^2*p(eta) dx⊗dx + a(eta)^2*p(eta) dy⊗dy + a(eta)^2*p(eta) dz⊗dz"
      ]
     },
     "execution_count": 16,
     "metadata": {},
     "output_type": "execute_result"
    }
   ],
   "source": [
    "# energy-momentum tensor definition\n",
    "T = (rho+p)*(u_form*u_form) + p*m\n",
    "T.display()"
   ]
  },
  {
   "cell_type": "code",
   "execution_count": 17,
   "id": "23e05b8e-130f-4cba-825f-f07c5fc15df0",
   "metadata": {},
   "outputs": [
    {
     "data": {
      "text/html": [
       "<html>\\(\\displaystyle \\begin{array}{llcl} & M & \\longrightarrow & \\mathbb{R} \\\\ & \\left(\\eta, x, y, z\\right) & \\longmapsto & 3 \\, p\\left(\\eta\\right) - \\rho\\left(\\eta\\right) \\end{array}\\)</html>"
      ],
      "text/latex": [
       "$\\displaystyle \\begin{array}{llcl} & M & \\longrightarrow & \\mathbb{R} \\\\ & \\left(\\eta, x, y, z\\right) & \\longmapsto & 3 \\, p\\left(\\eta\\right) - \\rho\\left(\\eta\\right) \\end{array}$"
      ],
      "text/plain": [
       "M → ℝ\n",
       "(eta, x, y, z) ↦ 3*p(eta) - rho(eta)"
      ]
     },
     "execution_count": 17,
     "metadata": {},
     "output_type": "execute_result"
    }
   ],
   "source": [
    "# energy-momentum trace\n",
    "Ttrace = m.inverse()['^ab']*T['_ab']\n",
    "Ttrace.display()"
   ]
  },
  {
   "cell_type": "code",
   "execution_count": 20,
   "id": "c906d168-ecac-4389-a2f8-963151bb0c5f",
   "metadata": {},
   "outputs": [],
   "source": [
    "# using Q = f(R)\n",
    "Q = function('Q')(eta)"
   ]
  },
  {
   "cell_type": "markdown",
   "id": "9c48fddf-80b8-461d-b143-19338fb4b640",
   "metadata": {},
   "source": [
    "#### original term: $k\\frac{T_{\\mu\\nu}}{f'(R)}$"
   ]
  },
  {
   "cell_type": "code",
   "execution_count": 21,
   "id": "863e2081-f56d-4c0c-b884-d16c2214918f",
   "metadata": {},
   "outputs": [
    {
     "data": {
      "text/html": [
       "<html>\\(\\displaystyle \\left(\\eta, x, y, z\\right) \\mapsto \\frac{k a\\left(\\eta\\right)^{2} \\rho\\left(\\eta\\right)}{f_{R}\\left(\\eta\\right)}\\)</html>"
      ],
      "text/latex": [
       "$\\displaystyle \\left(\\eta, x, y, z\\right) \\mapsto \\frac{k a\\left(\\eta\\right)^{2} \\rho\\left(\\eta\\right)}{f_{R}\\left(\\eta\\right)}$"
      ],
      "text/plain": [
       "(eta, x, y, z) ↦ k*a(eta)^2*rho(eta)/f_R(eta)"
      ]
     },
     "execution_count": 21,
     "metadata": {},
     "output_type": "execute_result"
    }
   ],
   "source": [
    "original_term   = k*T/f_R\n",
    "original_term[0,0].display()"
   ]
  },
  {
   "cell_type": "markdown",
   "id": "04bcf6c0-5b16-4ca5-8327-d51330185329",
   "metadata": {},
   "source": [
    "#### correction term: $-\\frac{1}{2}\\left(\\frac{f'(R)R - f(R)}{f'(R)}\\right)$"
   ]
  },
  {
   "cell_type": "code",
   "execution_count": 24,
   "id": "19b6482b-da8e-4589-b207-0d34ea1d7e73",
   "metadata": {},
   "outputs": [
    {
     "data": {
      "text/html": [
       "<html>\\(\\displaystyle \\left(\\eta, x, y, z\\right) \\mapsto \\frac{Q\\left(\\eta\\right) a\\left(\\eta\\right)^{2} + {\\left(3 \\, a\\left(\\eta\\right)^{2} p\\left(\\eta\\right) - a\\left(\\eta\\right)^{2} \\rho\\left(\\eta\\right)\\right)} k}{2 \\, f_{R}\\left(\\eta\\right)}\\)</html>"
      ],
      "text/latex": [
       "$\\displaystyle \\left(\\eta, x, y, z\\right) \\mapsto \\frac{Q\\left(\\eta\\right) a\\left(\\eta\\right)^{2} + {\\left(3 \\, a\\left(\\eta\\right)^{2} p\\left(\\eta\\right) - a\\left(\\eta\\right)^{2} \\rho\\left(\\eta\\right)\\right)} k}{2 \\, f_{R}\\left(\\eta\\right)}$"
      ],
      "text/plain": [
       "(eta, x, y, z) ↦ 1/2*(Q(eta)*a(eta)^2 + (3*a(eta)^2*p(eta) - a(eta)^2*rho(eta))*k)/f_R(eta)"
      ]
     },
     "execution_count": 24,
     "metadata": {},
     "output_type": "execute_result"
    }
   ],
   "source": [
    "correction_term = -m*(k*Ttrace + Q)/(2*f_R)\n",
    "correction_term[0,0].display()"
   ]
  },
  {
   "cell_type": "markdown",
   "id": "0cf0cea4-8480-4caa-84a9-4de723707169",
   "metadata": {},
   "source": [
    "## Geometry side"
   ]
  },
  {
   "cell_type": "code",
   "execution_count": 25,
   "id": "33b9d6c8-e20d-41ea-b095-1f3efde9bbf3",
   "metadata": {},
   "outputs": [
    {
     "data": {
      "text/html": [
       "<html>\\(\\displaystyle \\begin{array}{lcl} X_{ \\, \\eta \\, \\eta }^{ \\phantom{\\, \\eta}\\phantom{\\, \\eta} } & = & -\\frac{3 \\, {\\left(a\\left(\\eta\\right)^{2} \\left(\\frac{\\partial\\,f_{R}}{\\partial \\eta}\\right)^{2} + 2 \\, {\\left(f_{R}\\left(\\eta\\right)^{2} - 2 \\, f_{R}\\left(\\eta\\right)\\right)} \\left(\\frac{\\partial\\,a}{\\partial \\eta}\\right)^{2} + 4 \\, a\\left(\\eta\\right) \\frac{\\partial\\,a}{\\partial \\eta} \\frac{\\partial\\,f_{R}}{\\partial \\eta} - 2 \\, {\\left(a\\left(\\eta\\right) f_{R}\\left(\\eta\\right)^{2} - 2 \\, a\\left(\\eta\\right) f_{R}\\left(\\eta\\right)\\right)} \\frac{\\partial^2\\,a}{\\partial \\eta ^ 2} - {\\left(a\\left(\\eta\\right)^{2} f_{R}\\left(\\eta\\right) - 2 \\, a\\left(\\eta\\right)^{2}\\right)} \\frac{\\partial^2\\,f_{R}}{\\partial \\eta ^ 2}\\right)}}{2 \\, {\\left(a\\left(\\eta\\right)^{2} f_{R}\\left(\\eta\\right)^{2} - 4 \\, a\\left(\\eta\\right)^{2} f_{R}\\left(\\eta\\right) + 4 \\, a\\left(\\eta\\right)^{2}\\right)}} \\\\ X_{ \\, x \\, x }^{ \\phantom{\\, x}\\phantom{\\, x} } & = & \\frac{2 \\, a\\left(\\eta\\right)^{2} \\left(\\frac{\\partial\\,f_{R}}{\\partial \\eta}\\right)^{2} + 2 \\, {\\left(3 \\, f_{R}\\left(\\eta\\right)^{2} - 2 \\, f_{R}\\left(\\eta\\right)\\right)} \\left(\\frac{\\partial\\,a}{\\partial \\eta}\\right)^{2} + 4 \\, {\\left(a\\left(\\eta\\right) f_{R}\\left(\\eta\\right) + a\\left(\\eta\\right)\\right)} \\frac{\\partial\\,a}{\\partial \\eta} \\frac{\\partial\\,f_{R}}{\\partial \\eta} - 2 \\, {\\left(a\\left(\\eta\\right) f_{R}\\left(\\eta\\right)^{2} - 2 \\, a\\left(\\eta\\right) f_{R}\\left(\\eta\\right)\\right)} \\frac{\\partial^2\\,a}{\\partial \\eta ^ 2} - {\\left(a\\left(\\eta\\right)^{2} f_{R}\\left(\\eta\\right) - 2 \\, a\\left(\\eta\\right)^{2}\\right)} \\frac{\\partial^2\\,f_{R}}{\\partial \\eta ^ 2}}{2 \\, {\\left(a\\left(\\eta\\right)^{2} f_{R}\\left(\\eta\\right)^{2} - 4 \\, a\\left(\\eta\\right)^{2} f_{R}\\left(\\eta\\right) + 4 \\, a\\left(\\eta\\right)^{2}\\right)}} \\\\ X_{ \\, y \\, y }^{ \\phantom{\\, y}\\phantom{\\, y} } & = & \\frac{2 \\, a\\left(\\eta\\right)^{2} \\left(\\frac{\\partial\\,f_{R}}{\\partial \\eta}\\right)^{2} + 2 \\, {\\left(3 \\, f_{R}\\left(\\eta\\right)^{2} - 2 \\, f_{R}\\left(\\eta\\right)\\right)} \\left(\\frac{\\partial\\,a}{\\partial \\eta}\\right)^{2} + 4 \\, {\\left(a\\left(\\eta\\right) f_{R}\\left(\\eta\\right) + a\\left(\\eta\\right)\\right)} \\frac{\\partial\\,a}{\\partial \\eta} \\frac{\\partial\\,f_{R}}{\\partial \\eta} - 2 \\, {\\left(a\\left(\\eta\\right) f_{R}\\left(\\eta\\right)^{2} - 2 \\, a\\left(\\eta\\right) f_{R}\\left(\\eta\\right)\\right)} \\frac{\\partial^2\\,a}{\\partial \\eta ^ 2} - {\\left(a\\left(\\eta\\right)^{2} f_{R}\\left(\\eta\\right) - 2 \\, a\\left(\\eta\\right)^{2}\\right)} \\frac{\\partial^2\\,f_{R}}{\\partial \\eta ^ 2}}{2 \\, {\\left(a\\left(\\eta\\right)^{2} f_{R}\\left(\\eta\\right)^{2} - 4 \\, a\\left(\\eta\\right)^{2} f_{R}\\left(\\eta\\right) + 4 \\, a\\left(\\eta\\right)^{2}\\right)}} \\\\ X_{ \\, z \\, z }^{ \\phantom{\\, z}\\phantom{\\, z} } & = & \\frac{2 \\, a\\left(\\eta\\right)^{2} \\left(\\frac{\\partial\\,f_{R}}{\\partial \\eta}\\right)^{2} + 2 \\, {\\left(3 \\, f_{R}\\left(\\eta\\right)^{2} - 2 \\, f_{R}\\left(\\eta\\right)\\right)} \\left(\\frac{\\partial\\,a}{\\partial \\eta}\\right)^{2} + 4 \\, {\\left(a\\left(\\eta\\right) f_{R}\\left(\\eta\\right) + a\\left(\\eta\\right)\\right)} \\frac{\\partial\\,a}{\\partial \\eta} \\frac{\\partial\\,f_{R}}{\\partial \\eta} - 2 \\, {\\left(a\\left(\\eta\\right) f_{R}\\left(\\eta\\right)^{2} - 2 \\, a\\left(\\eta\\right) f_{R}\\left(\\eta\\right)\\right)} \\frac{\\partial^2\\,a}{\\partial \\eta ^ 2} - {\\left(a\\left(\\eta\\right)^{2} f_{R}\\left(\\eta\\right) - 2 \\, a\\left(\\eta\\right)^{2}\\right)} \\frac{\\partial^2\\,f_{R}}{\\partial \\eta ^ 2}}{2 \\, {\\left(a\\left(\\eta\\right)^{2} f_{R}\\left(\\eta\\right)^{2} - 4 \\, a\\left(\\eta\\right)^{2} f_{R}\\left(\\eta\\right) + 4 \\, a\\left(\\eta\\right)^{2}\\right)}} \\end{array}\\)</html>"
      ],
      "text/latex": [
       "$\\displaystyle \\begin{array}{lcl} X_{ \\, \\eta \\, \\eta }^{ \\phantom{\\, \\eta}\\phantom{\\, \\eta} } & = & -\\frac{3 \\, {\\left(a\\left(\\eta\\right)^{2} \\left(\\frac{\\partial\\,f_{R}}{\\partial \\eta}\\right)^{2} + 2 \\, {\\left(f_{R}\\left(\\eta\\right)^{2} - 2 \\, f_{R}\\left(\\eta\\right)\\right)} \\left(\\frac{\\partial\\,a}{\\partial \\eta}\\right)^{2} + 4 \\, a\\left(\\eta\\right) \\frac{\\partial\\,a}{\\partial \\eta} \\frac{\\partial\\,f_{R}}{\\partial \\eta} - 2 \\, {\\left(a\\left(\\eta\\right) f_{R}\\left(\\eta\\right)^{2} - 2 \\, a\\left(\\eta\\right) f_{R}\\left(\\eta\\right)\\right)} \\frac{\\partial^2\\,a}{\\partial \\eta ^ 2} - {\\left(a\\left(\\eta\\right)^{2} f_{R}\\left(\\eta\\right) - 2 \\, a\\left(\\eta\\right)^{2}\\right)} \\frac{\\partial^2\\,f_{R}}{\\partial \\eta ^ 2}\\right)}}{2 \\, {\\left(a\\left(\\eta\\right)^{2} f_{R}\\left(\\eta\\right)^{2} - 4 \\, a\\left(\\eta\\right)^{2} f_{R}\\left(\\eta\\right) + 4 \\, a\\left(\\eta\\right)^{2}\\right)}} \\\\ X_{ \\, x \\, x }^{ \\phantom{\\, x}\\phantom{\\, x} } & = & \\frac{2 \\, a\\left(\\eta\\right)^{2} \\left(\\frac{\\partial\\,f_{R}}{\\partial \\eta}\\right)^{2} + 2 \\, {\\left(3 \\, f_{R}\\left(\\eta\\right)^{2} - 2 \\, f_{R}\\left(\\eta\\right)\\right)} \\left(\\frac{\\partial\\,a}{\\partial \\eta}\\right)^{2} + 4 \\, {\\left(a\\left(\\eta\\right) f_{R}\\left(\\eta\\right) + a\\left(\\eta\\right)\\right)} \\frac{\\partial\\,a}{\\partial \\eta} \\frac{\\partial\\,f_{R}}{\\partial \\eta} - 2 \\, {\\left(a\\left(\\eta\\right) f_{R}\\left(\\eta\\right)^{2} - 2 \\, a\\left(\\eta\\right) f_{R}\\left(\\eta\\right)\\right)} \\frac{\\partial^2\\,a}{\\partial \\eta ^ 2} - {\\left(a\\left(\\eta\\right)^{2} f_{R}\\left(\\eta\\right) - 2 \\, a\\left(\\eta\\right)^{2}\\right)} \\frac{\\partial^2\\,f_{R}}{\\partial \\eta ^ 2}}{2 \\, {\\left(a\\left(\\eta\\right)^{2} f_{R}\\left(\\eta\\right)^{2} - 4 \\, a\\left(\\eta\\right)^{2} f_{R}\\left(\\eta\\right) + 4 \\, a\\left(\\eta\\right)^{2}\\right)}} \\\\ X_{ \\, y \\, y }^{ \\phantom{\\, y}\\phantom{\\, y} } & = & \\frac{2 \\, a\\left(\\eta\\right)^{2} \\left(\\frac{\\partial\\,f_{R}}{\\partial \\eta}\\right)^{2} + 2 \\, {\\left(3 \\, f_{R}\\left(\\eta\\right)^{2} - 2 \\, f_{R}\\left(\\eta\\right)\\right)} \\left(\\frac{\\partial\\,a}{\\partial \\eta}\\right)^{2} + 4 \\, {\\left(a\\left(\\eta\\right) f_{R}\\left(\\eta\\right) + a\\left(\\eta\\right)\\right)} \\frac{\\partial\\,a}{\\partial \\eta} \\frac{\\partial\\,f_{R}}{\\partial \\eta} - 2 \\, {\\left(a\\left(\\eta\\right) f_{R}\\left(\\eta\\right)^{2} - 2 \\, a\\left(\\eta\\right) f_{R}\\left(\\eta\\right)\\right)} \\frac{\\partial^2\\,a}{\\partial \\eta ^ 2} - {\\left(a\\left(\\eta\\right)^{2} f_{R}\\left(\\eta\\right) - 2 \\, a\\left(\\eta\\right)^{2}\\right)} \\frac{\\partial^2\\,f_{R}}{\\partial \\eta ^ 2}}{2 \\, {\\left(a\\left(\\eta\\right)^{2} f_{R}\\left(\\eta\\right)^{2} - 4 \\, a\\left(\\eta\\right)^{2} f_{R}\\left(\\eta\\right) + 4 \\, a\\left(\\eta\\right)^{2}\\right)}} \\\\ X_{ \\, z \\, z }^{ \\phantom{\\, z}\\phantom{\\, z} } & = & \\frac{2 \\, a\\left(\\eta\\right)^{2} \\left(\\frac{\\partial\\,f_{R}}{\\partial \\eta}\\right)^{2} + 2 \\, {\\left(3 \\, f_{R}\\left(\\eta\\right)^{2} - 2 \\, f_{R}\\left(\\eta\\right)\\right)} \\left(\\frac{\\partial\\,a}{\\partial \\eta}\\right)^{2} + 4 \\, {\\left(a\\left(\\eta\\right) f_{R}\\left(\\eta\\right) + a\\left(\\eta\\right)\\right)} \\frac{\\partial\\,a}{\\partial \\eta} \\frac{\\partial\\,f_{R}}{\\partial \\eta} - 2 \\, {\\left(a\\left(\\eta\\right) f_{R}\\left(\\eta\\right)^{2} - 2 \\, a\\left(\\eta\\right) f_{R}\\left(\\eta\\right)\\right)} \\frac{\\partial^2\\,a}{\\partial \\eta ^ 2} - {\\left(a\\left(\\eta\\right)^{2} f_{R}\\left(\\eta\\right) - 2 \\, a\\left(\\eta\\right)^{2}\\right)} \\frac{\\partial^2\\,f_{R}}{\\partial \\eta ^ 2}}{2 \\, {\\left(a\\left(\\eta\\right)^{2} f_{R}\\left(\\eta\\right)^{2} - 4 \\, a\\left(\\eta\\right)^{2} f_{R}\\left(\\eta\\right) + 4 \\, a\\left(\\eta\\right)^{2}\\right)}} \\end{array}$"
      ],
      "text/plain": [
       "X_eta,eta = -3/2*(a(eta)^2*(d(f_R)/deta)^2 + 2*(f_R(eta)^2 - 2*f_R(eta))*(d(a)/deta)^2 + 4*a(eta)*d(a)/deta*d(f_R)/deta - 2*(a(eta)*f_R(eta)^2 - 2*a(eta)*f_R(eta))*d^2(a)/deta^2 - (a(eta)^2*f_R(eta) - 2*a(eta)^2)*d^2(f_R)/deta^2)/(a(eta)^2*f_R(eta)^2 - 4*a(eta)^2*f_R(eta) + 4*a(eta)^2) \n",
       "X_x,x = 1/2*(2*a(eta)^2*(d(f_R)/deta)^2 + 2*(3*f_R(eta)^2 - 2*f_R(eta))*(d(a)/deta)^2 + 4*(a(eta)*f_R(eta) + a(eta))*d(a)/deta*d(f_R)/deta - 2*(a(eta)*f_R(eta)^2 - 2*a(eta)*f_R(eta))*d^2(a)/deta^2 - (a(eta)^2*f_R(eta) - 2*a(eta)^2)*d^2(f_R)/deta^2)/(a(eta)^2*f_R(eta)^2 - 4*a(eta)^2*f_R(eta) + 4*a(eta)^2) \n",
       "X_y,y = 1/2*(2*a(eta)^2*(d(f_R)/deta)^2 + 2*(3*f_R(eta)^2 - 2*f_R(eta))*(d(a)/deta)^2 + 4*(a(eta)*f_R(eta) + a(eta))*d(a)/deta*d(f_R)/deta - 2*(a(eta)*f_R(eta)^2 - 2*a(eta)*f_R(eta))*d^2(a)/deta^2 - (a(eta)^2*f_R(eta) - 2*a(eta)^2)*d^2(f_R)/deta^2)/(a(eta)^2*f_R(eta)^2 - 4*a(eta)^2*f_R(eta) + 4*a(eta)^2) \n",
       "X_z,z = 1/2*(2*a(eta)^2*(d(f_R)/deta)^2 + 2*(3*f_R(eta)^2 - 2*f_R(eta))*(d(a)/deta)^2 + 4*(a(eta)*f_R(eta) + a(eta))*d(a)/deta*d(f_R)/deta - 2*(a(eta)*f_R(eta)^2 - 2*a(eta)*f_R(eta))*d^2(a)/deta^2 - (a(eta)^2*f_R(eta) - 2*a(eta)^2)*d^2(f_R)/deta^2)/(a(eta)^2*f_R(eta)^2 - 4*a(eta)^2*f_R(eta) + 4*a(eta)^2) "
      ]
     },
     "execution_count": 25,
     "metadata": {},
     "output_type": "execute_result"
    }
   ],
   "source": [
    "# ricci tensor\n",
    "Ricci = nab.ricci()\n",
    "Ricci.display_comp()"
   ]
  },
  {
   "cell_type": "code",
   "execution_count": 26,
   "id": "cf1dec0b-f6c8-4846-8e60-d34c6a447b43",
   "metadata": {},
   "outputs": [
    {
     "data": {
      "text/html": [
       "<html>\\(\\displaystyle \\begin{array}{llcl} & M & \\longrightarrow & \\mathbb{R} \\\\ & \\left(\\eta, x, y, z\\right) & \\longmapsto & \\frac{3 \\, {\\left(3 \\, a\\left(\\eta\\right)^{2} \\left(\\frac{\\partial\\,f_{R}}{\\partial \\eta}\\right)^{2} + 8 \\, {\\left(f_{R}\\left(\\eta\\right)^{2} - f_{R}\\left(\\eta\\right)\\right)} \\left(\\frac{\\partial\\,a}{\\partial \\eta}\\right)^{2} + 4 \\, {\\left(a\\left(\\eta\\right) f_{R}\\left(\\eta\\right) + 2 \\, a\\left(\\eta\\right)\\right)} \\frac{\\partial\\,a}{\\partial \\eta} \\frac{\\partial\\,f_{R}}{\\partial \\eta} - 4 \\, {\\left(a\\left(\\eta\\right) f_{R}\\left(\\eta\\right)^{2} - 2 \\, a\\left(\\eta\\right) f_{R}\\left(\\eta\\right)\\right)} \\frac{\\partial^2\\,a}{\\partial \\eta ^ 2} - 2 \\, {\\left(a\\left(\\eta\\right)^{2} f_{R}\\left(\\eta\\right) - 2 \\, a\\left(\\eta\\right)^{2}\\right)} \\frac{\\partial^2\\,f_{R}}{\\partial \\eta ^ 2}\\right)}}{2 \\, {\\left(a\\left(\\eta\\right)^{4} f_{R}\\left(\\eta\\right)^{2} - 4 \\, a\\left(\\eta\\right)^{4} f_{R}\\left(\\eta\\right) + 4 \\, a\\left(\\eta\\right)^{4}\\right)}} \\end{array}\\)</html>"
      ],
      "text/latex": [
       "$\\displaystyle \\begin{array}{llcl} & M & \\longrightarrow & \\mathbb{R} \\\\ & \\left(\\eta, x, y, z\\right) & \\longmapsto & \\frac{3 \\, {\\left(3 \\, a\\left(\\eta\\right)^{2} \\left(\\frac{\\partial\\,f_{R}}{\\partial \\eta}\\right)^{2} + 8 \\, {\\left(f_{R}\\left(\\eta\\right)^{2} - f_{R}\\left(\\eta\\right)\\right)} \\left(\\frac{\\partial\\,a}{\\partial \\eta}\\right)^{2} + 4 \\, {\\left(a\\left(\\eta\\right) f_{R}\\left(\\eta\\right) + 2 \\, a\\left(\\eta\\right)\\right)} \\frac{\\partial\\,a}{\\partial \\eta} \\frac{\\partial\\,f_{R}}{\\partial \\eta} - 4 \\, {\\left(a\\left(\\eta\\right) f_{R}\\left(\\eta\\right)^{2} - 2 \\, a\\left(\\eta\\right) f_{R}\\left(\\eta\\right)\\right)} \\frac{\\partial^2\\,a}{\\partial \\eta ^ 2} - 2 \\, {\\left(a\\left(\\eta\\right)^{2} f_{R}\\left(\\eta\\right) - 2 \\, a\\left(\\eta\\right)^{2}\\right)} \\frac{\\partial^2\\,f_{R}}{\\partial \\eta ^ 2}\\right)}}{2 \\, {\\left(a\\left(\\eta\\right)^{4} f_{R}\\left(\\eta\\right)^{2} - 4 \\, a\\left(\\eta\\right)^{4} f_{R}\\left(\\eta\\right) + 4 \\, a\\left(\\eta\\right)^{4}\\right)}} \\end{array}$"
      ],
      "text/plain": [
       "M → ℝ\n",
       "(eta, x, y, z) ↦ 3/2*(3*a(eta)^2*(d(f_R)/deta)^2 + 8*(f_R(eta)^2 - f_R(eta))*(d(a)/deta)^2 + 4*(a(eta)*f_R(eta) + 2*a(eta))*d(a)/deta*d(f_R)/deta - 4*(a(eta)*f_R(eta)^2 - 2*a(eta)*f_R(eta))*d^2(a)/deta^2 - 2*(a(eta)^2*f_R(eta) - 2*a(eta)^2)*d^2(f_R)/deta^2)/(a(eta)^4*f_R(eta)^2 - 4*a(eta)^4*f_R(eta) + 4*a(eta)^4)"
      ]
     },
     "execution_count": 26,
     "metadata": {},
     "output_type": "execute_result"
    }
   ],
   "source": [
    "# scalar curvature\n",
    "((m.inverse()*Ricci)[\"^{mn}_{mn}\"]).display()"
   ]
  },
  {
   "cell_type": "markdown",
   "id": "1774ef69-500e-4773-97b4-e91c938a14f8",
   "metadata": {},
   "source": [
    "## Complete set of field equations $R_{\\mu\\nu} - \\frac{1}{2}g_{\\mu\\nu}R = k\\frac{T}{}$"
   ]
  },
  {
   "cell_type": "code",
   "execution_count": 27,
   "id": "ff4f3d24-0049-46e0-a556-c14a5a105100",
   "metadata": {},
   "outputs": [
    {
     "data": {
      "text/html": [
       "<html>\\(\\displaystyle -\\frac{3 \\, k a\\left(\\eta\\right)^{4} f_{R}\\left(\\eta\\right)^{2} p\\left(\\eta\\right)}{2 \\, {\\left(a\\left(\\eta\\right)^{2} f_{R}\\left(\\eta\\right)^{3} - 4 \\, a\\left(\\eta\\right)^{2} f_{R}\\left(\\eta\\right)^{2} + 4 \\, a\\left(\\eta\\right)^{2} f_{R}\\left(\\eta\\right)\\right)}} - \\frac{k a\\left(\\eta\\right)^{4} f_{R}\\left(\\eta\\right)^{2} \\rho\\left(\\eta\\right)}{2 \\, {\\left(a\\left(\\eta\\right)^{2} f_{R}\\left(\\eta\\right)^{3} - 4 \\, a\\left(\\eta\\right)^{2} f_{R}\\left(\\eta\\right)^{2} + 4 \\, a\\left(\\eta\\right)^{2} f_{R}\\left(\\eta\\right)\\right)}} - \\frac{Q\\left(\\eta\\right) a\\left(\\eta\\right)^{4} f_{R}\\left(\\eta\\right)^{2}}{2 \\, {\\left(a\\left(\\eta\\right)^{2} f_{R}\\left(\\eta\\right)^{3} - 4 \\, a\\left(\\eta\\right)^{2} f_{R}\\left(\\eta\\right)^{2} + 4 \\, a\\left(\\eta\\right)^{2} f_{R}\\left(\\eta\\right)\\right)}} + \\frac{6 \\, k a\\left(\\eta\\right)^{4} f_{R}\\left(\\eta\\right) p\\left(\\eta\\right)}{a\\left(\\eta\\right)^{2} f_{R}\\left(\\eta\\right)^{3} - 4 \\, a\\left(\\eta\\right)^{2} f_{R}\\left(\\eta\\right)^{2} + 4 \\, a\\left(\\eta\\right)^{2} f_{R}\\left(\\eta\\right)} + \\frac{2 \\, k a\\left(\\eta\\right)^{4} f_{R}\\left(\\eta\\right) \\rho\\left(\\eta\\right)}{a\\left(\\eta\\right)^{2} f_{R}\\left(\\eta\\right)^{3} - 4 \\, a\\left(\\eta\\right)^{2} f_{R}\\left(\\eta\\right)^{2} + 4 \\, a\\left(\\eta\\right)^{2} f_{R}\\left(\\eta\\right)} + \\frac{2 \\, Q\\left(\\eta\\right) a\\left(\\eta\\right)^{4} f_{R}\\left(\\eta\\right)}{a\\left(\\eta\\right)^{2} f_{R}\\left(\\eta\\right)^{3} - 4 \\, a\\left(\\eta\\right)^{2} f_{R}\\left(\\eta\\right)^{2} + 4 \\, a\\left(\\eta\\right)^{2} f_{R}\\left(\\eta\\right)} - \\frac{6 \\, k a\\left(\\eta\\right)^{4} p\\left(\\eta\\right)}{a\\left(\\eta\\right)^{2} f_{R}\\left(\\eta\\right)^{3} - 4 \\, a\\left(\\eta\\right)^{2} f_{R}\\left(\\eta\\right)^{2} + 4 \\, a\\left(\\eta\\right)^{2} f_{R}\\left(\\eta\\right)} - \\frac{2 \\, k a\\left(\\eta\\right)^{4} \\rho\\left(\\eta\\right)}{a\\left(\\eta\\right)^{2} f_{R}\\left(\\eta\\right)^{3} - 4 \\, a\\left(\\eta\\right)^{2} f_{R}\\left(\\eta\\right)^{2} + 4 \\, a\\left(\\eta\\right)^{2} f_{R}\\left(\\eta\\right)} - \\frac{2 \\, Q\\left(\\eta\\right) a\\left(\\eta\\right)^{4}}{a\\left(\\eta\\right)^{2} f_{R}\\left(\\eta\\right)^{3} - 4 \\, a\\left(\\eta\\right)^{2} f_{R}\\left(\\eta\\right)^{2} + 4 \\, a\\left(\\eta\\right)^{2} f_{R}\\left(\\eta\\right)} + \\frac{3 \\, f_{R}\\left(\\eta\\right)^{3} \\left(\\frac{\\partial\\,a}{\\partial \\eta}\\right)^{2}}{a\\left(\\eta\\right)^{2} f_{R}\\left(\\eta\\right)^{3} - 4 \\, a\\left(\\eta\\right)^{2} f_{R}\\left(\\eta\\right)^{2} + 4 \\, a\\left(\\eta\\right)^{2} f_{R}\\left(\\eta\\right)} + \\frac{3 \\, a\\left(\\eta\\right) f_{R}\\left(\\eta\\right)^{2} \\frac{\\partial\\,a}{\\partial \\eta} \\frac{\\partial\\,f_{R}}{\\partial \\eta}}{a\\left(\\eta\\right)^{2} f_{R}\\left(\\eta\\right)^{3} - 4 \\, a\\left(\\eta\\right)^{2} f_{R}\\left(\\eta\\right)^{2} + 4 \\, a\\left(\\eta\\right)^{2} f_{R}\\left(\\eta\\right)} + \\frac{3 \\, a\\left(\\eta\\right)^{2} f_{R}\\left(\\eta\\right) \\frac{\\partial\\,f_{R}}{\\partial \\eta}^{2}}{4 \\, {\\left(a\\left(\\eta\\right)^{2} f_{R}\\left(\\eta\\right)^{3} - 4 \\, a\\left(\\eta\\right)^{2} f_{R}\\left(\\eta\\right)^{2} + 4 \\, a\\left(\\eta\\right)^{2} f_{R}\\left(\\eta\\right)\\right)}}\\)</html>"
      ],
      "text/latex": [
       "$\\displaystyle -\\frac{3 \\, k a\\left(\\eta\\right)^{4} f_{R}\\left(\\eta\\right)^{2} p\\left(\\eta\\right)}{2 \\, {\\left(a\\left(\\eta\\right)^{2} f_{R}\\left(\\eta\\right)^{3} - 4 \\, a\\left(\\eta\\right)^{2} f_{R}\\left(\\eta\\right)^{2} + 4 \\, a\\left(\\eta\\right)^{2} f_{R}\\left(\\eta\\right)\\right)}} - \\frac{k a\\left(\\eta\\right)^{4} f_{R}\\left(\\eta\\right)^{2} \\rho\\left(\\eta\\right)}{2 \\, {\\left(a\\left(\\eta\\right)^{2} f_{R}\\left(\\eta\\right)^{3} - 4 \\, a\\left(\\eta\\right)^{2} f_{R}\\left(\\eta\\right)^{2} + 4 \\, a\\left(\\eta\\right)^{2} f_{R}\\left(\\eta\\right)\\right)}} - \\frac{Q\\left(\\eta\\right) a\\left(\\eta\\right)^{4} f_{R}\\left(\\eta\\right)^{2}}{2 \\, {\\left(a\\left(\\eta\\right)^{2} f_{R}\\left(\\eta\\right)^{3} - 4 \\, a\\left(\\eta\\right)^{2} f_{R}\\left(\\eta\\right)^{2} + 4 \\, a\\left(\\eta\\right)^{2} f_{R}\\left(\\eta\\right)\\right)}} + \\frac{6 \\, k a\\left(\\eta\\right)^{4} f_{R}\\left(\\eta\\right) p\\left(\\eta\\right)}{a\\left(\\eta\\right)^{2} f_{R}\\left(\\eta\\right)^{3} - 4 \\, a\\left(\\eta\\right)^{2} f_{R}\\left(\\eta\\right)^{2} + 4 \\, a\\left(\\eta\\right)^{2} f_{R}\\left(\\eta\\right)} + \\frac{2 \\, k a\\left(\\eta\\right)^{4} f_{R}\\left(\\eta\\right) \\rho\\left(\\eta\\right)}{a\\left(\\eta\\right)^{2} f_{R}\\left(\\eta\\right)^{3} - 4 \\, a\\left(\\eta\\right)^{2} f_{R}\\left(\\eta\\right)^{2} + 4 \\, a\\left(\\eta\\right)^{2} f_{R}\\left(\\eta\\right)} + \\frac{2 \\, Q\\left(\\eta\\right) a\\left(\\eta\\right)^{4} f_{R}\\left(\\eta\\right)}{a\\left(\\eta\\right)^{2} f_{R}\\left(\\eta\\right)^{3} - 4 \\, a\\left(\\eta\\right)^{2} f_{R}\\left(\\eta\\right)^{2} + 4 \\, a\\left(\\eta\\right)^{2} f_{R}\\left(\\eta\\right)} - \\frac{6 \\, k a\\left(\\eta\\right)^{4} p\\left(\\eta\\right)}{a\\left(\\eta\\right)^{2} f_{R}\\left(\\eta\\right)^{3} - 4 \\, a\\left(\\eta\\right)^{2} f_{R}\\left(\\eta\\right)^{2} + 4 \\, a\\left(\\eta\\right)^{2} f_{R}\\left(\\eta\\right)} - \\frac{2 \\, k a\\left(\\eta\\right)^{4} \\rho\\left(\\eta\\right)}{a\\left(\\eta\\right)^{2} f_{R}\\left(\\eta\\right)^{3} - 4 \\, a\\left(\\eta\\right)^{2} f_{R}\\left(\\eta\\right)^{2} + 4 \\, a\\left(\\eta\\right)^{2} f_{R}\\left(\\eta\\right)} - \\frac{2 \\, Q\\left(\\eta\\right) a\\left(\\eta\\right)^{4}}{a\\left(\\eta\\right)^{2} f_{R}\\left(\\eta\\right)^{3} - 4 \\, a\\left(\\eta\\right)^{2} f_{R}\\left(\\eta\\right)^{2} + 4 \\, a\\left(\\eta\\right)^{2} f_{R}\\left(\\eta\\right)} + \\frac{3 \\, f_{R}\\left(\\eta\\right)^{3} \\left(\\frac{\\partial\\,a}{\\partial \\eta}\\right)^{2}}{a\\left(\\eta\\right)^{2} f_{R}\\left(\\eta\\right)^{3} - 4 \\, a\\left(\\eta\\right)^{2} f_{R}\\left(\\eta\\right)^{2} + 4 \\, a\\left(\\eta\\right)^{2} f_{R}\\left(\\eta\\right)} + \\frac{3 \\, a\\left(\\eta\\right) f_{R}\\left(\\eta\\right)^{2} \\frac{\\partial\\,a}{\\partial \\eta} \\frac{\\partial\\,f_{R}}{\\partial \\eta}}{a\\left(\\eta\\right)^{2} f_{R}\\left(\\eta\\right)^{3} - 4 \\, a\\left(\\eta\\right)^{2} f_{R}\\left(\\eta\\right)^{2} + 4 \\, a\\left(\\eta\\right)^{2} f_{R}\\left(\\eta\\right)} + \\frac{3 \\, a\\left(\\eta\\right)^{2} f_{R}\\left(\\eta\\right) \\frac{\\partial\\,f_{R}}{\\partial \\eta}^{2}}{4 \\, {\\left(a\\left(\\eta\\right)^{2} f_{R}\\left(\\eta\\right)^{3} - 4 \\, a\\left(\\eta\\right)^{2} f_{R}\\left(\\eta\\right)^{2} + 4 \\, a\\left(\\eta\\right)^{2} f_{R}\\left(\\eta\\right)\\right)}}$"
      ],
      "text/plain": [
       "-3/2*k*a(eta)^4*f_R(eta)^2*p(eta)/(a(eta)^2*f_R(eta)^3 - 4*a(eta)^2*f_R(eta)^2 + 4*a(eta)^2*f_R(eta)) - 1/2*k*a(eta)^4*f_R(eta)^2*rho(eta)/(a(eta)^2*f_R(eta)^3 - 4*a(eta)^2*f_R(eta)^2 + 4*a(eta)^2*f_R(eta)) - 1/2*Q(eta)*a(eta)^4*f_R(eta)^2/(a(eta)^2*f_R(eta)^3 - 4*a(eta)^2*f_R(eta)^2 + 4*a(eta)^2*f_R(eta)) + 6*k*a(eta)^4*f_R(eta)*p(eta)/(a(eta)^2*f_R(eta)^3 - 4*a(eta)^2*f_R(eta)^2 + 4*a(eta)^2*f_R(eta)) + 2*k*a(eta)^4*f_R(eta)*rho(eta)/(a(eta)^2*f_R(eta)^3 - 4*a(eta)^2*f_R(eta)^2 + 4*a(eta)^2*f_R(eta)) + 2*Q(eta)*a(eta)^4*f_R(eta)/(a(eta)^2*f_R(eta)^3 - 4*a(eta)^2*f_R(eta)^2 + 4*a(eta)^2*f_R(eta)) - 6*k*a(eta)^4*p(eta)/(a(eta)^2*f_R(eta)^3 - 4*a(eta)^2*f_R(eta)^2 + 4*a(eta)^2*f_R(eta)) - 2*k*a(eta)^4*rho(eta)/(a(eta)^2*f_R(eta)^3 - 4*a(eta)^2*f_R(eta)^2 + 4*a(eta)^2*f_R(eta)) - 2*Q(eta)*a(eta)^4/(a(eta)^2*f_R(eta)^3 - 4*a(eta)^2*f_R(eta)^2 + 4*a(eta)^2*f_R(eta)) + 3*f_R(eta)^3*(d(a)/deta)^2/(a(eta)^2*f_R(eta)^3 - 4*a(eta)^2*f_R(eta)^2 + 4*a(eta)^2*f_R(eta)) + 3*a(eta)*f_R(eta)^2*d(a)/deta*d(f_R)/deta/(a(eta)^2*f_R(eta)^3 - 4*a(eta)^2*f_R(eta)^2 + 4*a(eta)^2*f_R(eta)) + 3/4*a(eta)^2*f_R(eta)*d(f_R)/deta^2/(a(eta)^2*f_R(eta)^3 - 4*a(eta)^2*f_R(eta)^2 + 4*a(eta)^2*f_R(eta))"
      ]
     },
     "execution_count": 27,
     "metadata": {},
     "output_type": "execute_result"
    }
   ],
   "source": [
    "EFE = Ricci - 1/2*m*((m.inverse()*Ricci)[\"^{mn}_{mn}\"]) - (original_term + correction_term)\n",
    "EFE[0,0].expand()"
   ]
  },
  {
   "cell_type": "code",
   "execution_count": 68,
   "id": "0c7f6ec7-e422-497f-99f2-30c89a56063b",
   "metadata": {},
   "outputs": [
    {
     "data": {
      "text/html": [
       "<html>\\(\\displaystyle \\frac{6 \\, k a\\left(\\eta\\right)^{4} f_{R}\\left(\\eta\\right) p\\left(\\eta\\right)}{a\\left(\\eta\\right)^{2} f_{R}\\left(\\eta\\right)^{3} - 4 \\, a\\left(\\eta\\right)^{2} f_{R}\\left(\\eta\\right)^{2} + 4 \\, a\\left(\\eta\\right)^{2} f_{R}\\left(\\eta\\right)} + \\frac{2 \\, k a\\left(\\eta\\right)^{4} f_{R}\\left(\\eta\\right) \\rho\\left(\\eta\\right)}{a\\left(\\eta\\right)^{2} f_{R}\\left(\\eta\\right)^{3} - 4 \\, a\\left(\\eta\\right)^{2} f_{R}\\left(\\eta\\right)^{2} + 4 \\, a\\left(\\eta\\right)^{2} f_{R}\\left(\\eta\\right)} + \\frac{2 \\, Q\\left(\\eta\\right) a\\left(\\eta\\right)^{4} f_{R}\\left(\\eta\\right)}{a\\left(\\eta\\right)^{2} f_{R}\\left(\\eta\\right)^{3} - 4 \\, a\\left(\\eta\\right)^{2} f_{R}\\left(\\eta\\right)^{2} + 4 \\, a\\left(\\eta\\right)^{2} f_{R}\\left(\\eta\\right)} - \\frac{6 \\, k a\\left(\\eta\\right)^{4} p\\left(\\eta\\right)}{a\\left(\\eta\\right)^{2} f_{R}\\left(\\eta\\right)^{3} - 4 \\, a\\left(\\eta\\right)^{2} f_{R}\\left(\\eta\\right)^{2} + 4 \\, a\\left(\\eta\\right)^{2} f_{R}\\left(\\eta\\right)} - \\frac{2 \\, k a\\left(\\eta\\right)^{4} \\rho\\left(\\eta\\right)}{a\\left(\\eta\\right)^{2} f_{R}\\left(\\eta\\right)^{3} - 4 \\, a\\left(\\eta\\right)^{2} f_{R}\\left(\\eta\\right)^{2} + 4 \\, a\\left(\\eta\\right)^{2} f_{R}\\left(\\eta\\right)} - \\frac{2 \\, Q\\left(\\eta\\right) a\\left(\\eta\\right)^{4}}{a\\left(\\eta\\right)^{2} f_{R}\\left(\\eta\\right)^{3} - 4 \\, a\\left(\\eta\\right)^{2} f_{R}\\left(\\eta\\right)^{2} + 4 \\, a\\left(\\eta\\right)^{2} f_{R}\\left(\\eta\\right)}\\)</html>"
      ],
      "text/latex": [
       "$\\displaystyle \\frac{6 \\, k a\\left(\\eta\\right)^{4} f_{R}\\left(\\eta\\right) p\\left(\\eta\\right)}{a\\left(\\eta\\right)^{2} f_{R}\\left(\\eta\\right)^{3} - 4 \\, a\\left(\\eta\\right)^{2} f_{R}\\left(\\eta\\right)^{2} + 4 \\, a\\left(\\eta\\right)^{2} f_{R}\\left(\\eta\\right)} + \\frac{2 \\, k a\\left(\\eta\\right)^{4} f_{R}\\left(\\eta\\right) \\rho\\left(\\eta\\right)}{a\\left(\\eta\\right)^{2} f_{R}\\left(\\eta\\right)^{3} - 4 \\, a\\left(\\eta\\right)^{2} f_{R}\\left(\\eta\\right)^{2} + 4 \\, a\\left(\\eta\\right)^{2} f_{R}\\left(\\eta\\right)} + \\frac{2 \\, Q\\left(\\eta\\right) a\\left(\\eta\\right)^{4} f_{R}\\left(\\eta\\right)}{a\\left(\\eta\\right)^{2} f_{R}\\left(\\eta\\right)^{3} - 4 \\, a\\left(\\eta\\right)^{2} f_{R}\\left(\\eta\\right)^{2} + 4 \\, a\\left(\\eta\\right)^{2} f_{R}\\left(\\eta\\right)} - \\frac{6 \\, k a\\left(\\eta\\right)^{4} p\\left(\\eta\\right)}{a\\left(\\eta\\right)^{2} f_{R}\\left(\\eta\\right)^{3} - 4 \\, a\\left(\\eta\\right)^{2} f_{R}\\left(\\eta\\right)^{2} + 4 \\, a\\left(\\eta\\right)^{2} f_{R}\\left(\\eta\\right)} - \\frac{2 \\, k a\\left(\\eta\\right)^{4} \\rho\\left(\\eta\\right)}{a\\left(\\eta\\right)^{2} f_{R}\\left(\\eta\\right)^{3} - 4 \\, a\\left(\\eta\\right)^{2} f_{R}\\left(\\eta\\right)^{2} + 4 \\, a\\left(\\eta\\right)^{2} f_{R}\\left(\\eta\\right)} - \\frac{2 \\, Q\\left(\\eta\\right) a\\left(\\eta\\right)^{4}}{a\\left(\\eta\\right)^{2} f_{R}\\left(\\eta\\right)^{3} - 4 \\, a\\left(\\eta\\right)^{2} f_{R}\\left(\\eta\\right)^{2} + 4 \\, a\\left(\\eta\\right)^{2} f_{R}\\left(\\eta\\right)}$"
      ],
      "text/plain": [
       "6*k*a(eta)^4*f_R(eta)*p(eta)/(a(eta)^2*f_R(eta)^3 - 4*a(eta)^2*f_R(eta)^2 + 4*a(eta)^2*f_R(eta)) + 2*k*a(eta)^4*f_R(eta)*rho(eta)/(a(eta)^2*f_R(eta)^3 - 4*a(eta)^2*f_R(eta)^2 + 4*a(eta)^2*f_R(eta)) + 2*Q(eta)*a(eta)^4*f_R(eta)/(a(eta)^2*f_R(eta)^3 - 4*a(eta)^2*f_R(eta)^2 + 4*a(eta)^2*f_R(eta)) - 6*k*a(eta)^4*p(eta)/(a(eta)^2*f_R(eta)^3 - 4*a(eta)^2*f_R(eta)^2 + 4*a(eta)^2*f_R(eta)) - 2*k*a(eta)^4*rho(eta)/(a(eta)^2*f_R(eta)^3 - 4*a(eta)^2*f_R(eta)^2 + 4*a(eta)^2*f_R(eta)) - 2*Q(eta)*a(eta)^4/(a(eta)^2*f_R(eta)^3 - 4*a(eta)^2*f_R(eta)^2 + 4*a(eta)^2*f_R(eta))"
      ]
     },
     "metadata": {},
     "output_type": "display_data"
    }
   ],
   "source": [
    "expr = EFE[0,0].expr()\n",
    "terms = expr.operands()\n",
    "n = len(terms)\n",
    "mid_six = terms[n//2 - 3 : n//2 + 3]\n",
    "\n",
    "from sage.symbolic.ring import SR\n",
    "selected_expr = SR.sum(mid_six)\n",
    "show(selected_expr)"
   ]
  },
  {
   "cell_type": "markdown",
   "id": "3470e583-017d-4d4f-b8bd-5d8776d6902f",
   "metadata": {},
   "source": [
    "## Scalar field equation"
   ]
  },
  {
   "cell_type": "code",
   "execution_count": 26,
   "id": "0ed3f96f-a6dd-45be-8cee-fff39be792a8",
   "metadata": {},
   "outputs": [
    {
     "data": {
      "text/html": [
       "<html>\\(\\displaystyle \\frac{\\partial\\,\\theta}{\\partial \\eta}\\)</html>"
      ],
      "text/latex": [
       "$\\displaystyle \\frac{\\partial\\,\\theta}{\\partial \\eta}$"
      ],
      "text/plain": [
       "d(theta)/deta"
      ]
     },
     "execution_count": 26,
     "metadata": {},
     "output_type": "execute_result"
    }
   ],
   "source": [
    "theta = function('theta')(eta)\n",
    "SF = M.tensor_field(0,1)\n",
    "SF[0] = derivative(theta,eta)\n",
    "SF[0]"
   ]
  },
  {
   "cell_type": "code",
   "execution_count": 27,
   "id": "c513c51c-40cd-4749-b522-dfd0c1dbb6d7",
   "metadata": {},
   "outputs": [
    {
     "data": {
      "text/html": [
       "<html>\\(\\displaystyle \\begin{array}{lcl} X_{ \\, \\eta \\, \\eta }^{ \\phantom{\\, \\eta}\\phantom{\\, \\eta} } & = & \\frac{{\\left(2 \\, f_{R}\\left(\\eta\\right) \\frac{\\partial\\,a}{\\partial \\eta} + a\\left(\\eta\\right) \\frac{\\partial\\,f_{R}}{\\partial \\eta}\\right)} \\frac{\\partial\\,\\theta}{\\partial \\eta} + 2 \\, {\\left(a\\left(\\eta\\right) f_{R}\\left(\\eta\\right) - 2 \\, a\\left(\\eta\\right)\\right)} \\frac{\\partial^2\\,\\theta}{\\partial \\eta ^ 2}}{2 \\, {\\left(a\\left(\\eta\\right) f_{R}\\left(\\eta\\right) - 2 \\, a\\left(\\eta\\right)\\right)}} \\\\ X_{ \\, x \\, x }^{ \\phantom{\\, x}\\phantom{\\, x} } & = & \\frac{{\\left(2 \\, f_{R}\\left(\\eta\\right) \\frac{\\partial\\,a}{\\partial \\eta} + a\\left(\\eta\\right) \\frac{\\partial\\,f_{R}}{\\partial \\eta}\\right)} \\frac{\\partial\\,\\theta}{\\partial \\eta}}{2 \\, {\\left(a\\left(\\eta\\right) f_{R}\\left(\\eta\\right) - 2 \\, a\\left(\\eta\\right)\\right)}} \\\\ X_{ \\, y \\, y }^{ \\phantom{\\, y}\\phantom{\\, y} } & = & \\frac{{\\left(2 \\, f_{R}\\left(\\eta\\right) \\frac{\\partial\\,a}{\\partial \\eta} + a\\left(\\eta\\right) \\frac{\\partial\\,f_{R}}{\\partial \\eta}\\right)} \\frac{\\partial\\,\\theta}{\\partial \\eta}}{2 \\, {\\left(a\\left(\\eta\\right) f_{R}\\left(\\eta\\right) - 2 \\, a\\left(\\eta\\right)\\right)}} \\\\ X_{ \\, z \\, z }^{ \\phantom{\\, z}\\phantom{\\, z} } & = & \\frac{{\\left(2 \\, f_{R}\\left(\\eta\\right) \\frac{\\partial\\,a}{\\partial \\eta} + a\\left(\\eta\\right) \\frac{\\partial\\,f_{R}}{\\partial \\eta}\\right)} \\frac{\\partial\\,\\theta}{\\partial \\eta}}{2 \\, {\\left(a\\left(\\eta\\right) f_{R}\\left(\\eta\\right) - 2 \\, a\\left(\\eta\\right)\\right)}} \\end{array}\\)</html>"
      ],
      "text/latex": [
       "$\\displaystyle \\begin{array}{lcl} X_{ \\, \\eta \\, \\eta }^{ \\phantom{\\, \\eta}\\phantom{\\, \\eta} } & = & \\frac{{\\left(2 \\, f_{R}\\left(\\eta\\right) \\frac{\\partial\\,a}{\\partial \\eta} + a\\left(\\eta\\right) \\frac{\\partial\\,f_{R}}{\\partial \\eta}\\right)} \\frac{\\partial\\,\\theta}{\\partial \\eta} + 2 \\, {\\left(a\\left(\\eta\\right) f_{R}\\left(\\eta\\right) - 2 \\, a\\left(\\eta\\right)\\right)} \\frac{\\partial^2\\,\\theta}{\\partial \\eta ^ 2}}{2 \\, {\\left(a\\left(\\eta\\right) f_{R}\\left(\\eta\\right) - 2 \\, a\\left(\\eta\\right)\\right)}} \\\\ X_{ \\, x \\, x }^{ \\phantom{\\, x}\\phantom{\\, x} } & = & \\frac{{\\left(2 \\, f_{R}\\left(\\eta\\right) \\frac{\\partial\\,a}{\\partial \\eta} + a\\left(\\eta\\right) \\frac{\\partial\\,f_{R}}{\\partial \\eta}\\right)} \\frac{\\partial\\,\\theta}{\\partial \\eta}}{2 \\, {\\left(a\\left(\\eta\\right) f_{R}\\left(\\eta\\right) - 2 \\, a\\left(\\eta\\right)\\right)}} \\\\ X_{ \\, y \\, y }^{ \\phantom{\\, y}\\phantom{\\, y} } & = & \\frac{{\\left(2 \\, f_{R}\\left(\\eta\\right) \\frac{\\partial\\,a}{\\partial \\eta} + a\\left(\\eta\\right) \\frac{\\partial\\,f_{R}}{\\partial \\eta}\\right)} \\frac{\\partial\\,\\theta}{\\partial \\eta}}{2 \\, {\\left(a\\left(\\eta\\right) f_{R}\\left(\\eta\\right) - 2 \\, a\\left(\\eta\\right)\\right)}} \\\\ X_{ \\, z \\, z }^{ \\phantom{\\, z}\\phantom{\\, z} } & = & \\frac{{\\left(2 \\, f_{R}\\left(\\eta\\right) \\frac{\\partial\\,a}{\\partial \\eta} + a\\left(\\eta\\right) \\frac{\\partial\\,f_{R}}{\\partial \\eta}\\right)} \\frac{\\partial\\,\\theta}{\\partial \\eta}}{2 \\, {\\left(a\\left(\\eta\\right) f_{R}\\left(\\eta\\right) - 2 \\, a\\left(\\eta\\right)\\right)}} \\end{array}$"
      ],
      "text/plain": [
       "X_eta,eta = 1/2*((2*f_R(eta)*d(a)/deta + a(eta)*d(f_R)/deta)*d(theta)/deta + 2*(a(eta)*f_R(eta) - 2*a(eta))*d^2(theta)/deta^2)/(a(eta)*f_R(eta) - 2*a(eta)) \n",
       "X_x,x = 1/2*(2*f_R(eta)*d(a)/deta + a(eta)*d(f_R)/deta)*d(theta)/deta/(a(eta)*f_R(eta) - 2*a(eta)) \n",
       "X_y,y = 1/2*(2*f_R(eta)*d(a)/deta + a(eta)*d(f_R)/deta)*d(theta)/deta/(a(eta)*f_R(eta) - 2*a(eta)) \n",
       "X_z,z = 1/2*(2*f_R(eta)*d(a)/deta + a(eta)*d(f_R)/deta)*d(theta)/deta/(a(eta)*f_R(eta) - 2*a(eta)) "
      ]
     },
     "execution_count": 27,
     "metadata": {},
     "output_type": "execute_result"
    }
   ],
   "source": [
    "SF1 = nab(SF)\n",
    "SF1.display_comp()"
   ]
  },
  {
   "cell_type": "code",
   "execution_count": 28,
   "id": "0e7fc1c8-3488-451e-8141-a5be115eeada",
   "metadata": {},
   "outputs": [
    {
     "data": {
      "text/html": [
       "<html>\\(\\displaystyle \\begin{array}{llcl} & M & \\longrightarrow & \\mathbb{R} \\\\ & \\left(\\eta, x, y, z\\right) & \\longmapsto & \\frac{{\\left(2 \\, f_{R}\\left(\\eta\\right) \\frac{\\partial\\,a}{\\partial \\eta} + a\\left(\\eta\\right) \\frac{\\partial\\,f_{R}}{\\partial \\eta}\\right)} \\frac{\\partial\\,\\theta}{\\partial \\eta} - {\\left(a\\left(\\eta\\right) f_{R}\\left(\\eta\\right) - 2 \\, a\\left(\\eta\\right)\\right)} \\frac{\\partial^2\\,\\theta}{\\partial \\eta ^ 2}}{a\\left(\\eta\\right)^{3} f_{R}\\left(\\eta\\right) - 2 \\, a\\left(\\eta\\right)^{3}} \\end{array}\\)</html>"
      ],
      "text/latex": [
       "$\\displaystyle \\begin{array}{llcl} & M & \\longrightarrow & \\mathbb{R} \\\\ & \\left(\\eta, x, y, z\\right) & \\longmapsto & \\frac{{\\left(2 \\, f_{R}\\left(\\eta\\right) \\frac{\\partial\\,a}{\\partial \\eta} + a\\left(\\eta\\right) \\frac{\\partial\\,f_{R}}{\\partial \\eta}\\right)} \\frac{\\partial\\,\\theta}{\\partial \\eta} - {\\left(a\\left(\\eta\\right) f_{R}\\left(\\eta\\right) - 2 \\, a\\left(\\eta\\right)\\right)} \\frac{\\partial^2\\,\\theta}{\\partial \\eta ^ 2}}{a\\left(\\eta\\right)^{3} f_{R}\\left(\\eta\\right) - 2 \\, a\\left(\\eta\\right)^{3}} \\end{array}$"
      ],
      "text/plain": [
       "M → ℝ\n",
       "(eta, x, y, z) ↦ ((2*f_R(eta)*d(a)/deta + a(eta)*d(f_R)/deta)*d(theta)/deta - (a(eta)*f_R(eta) - 2*a(eta))*d^2(theta)/deta^2)/(a(eta)^3*f_R(eta) - 2*a(eta)^3)"
      ]
     },
     "execution_count": 28,
     "metadata": {},
     "output_type": "execute_result"
    }
   ],
   "source": [
    "SF2 = SF1[\"_{mn}\"]*m.inverse()[\"^{mn}\"]\n",
    "SF2.display()"
   ]
  },
  {
   "cell_type": "code",
   "execution_count": null,
   "id": "7cc268f0-cd27-40f7-81c3-7987dc028f79",
   "metadata": {},
   "outputs": [],
   "source": []
  }
 ],
 "metadata": {
  "kernelspec": {
   "display_name": "SageMath 10.6",
   "language": "sage",
   "name": "sagemath-10.6"
  },
  "language_info": {
   "codemirror_mode": {
    "name": "ipython",
    "version": 3
   },
   "file_extension": ".py",
   "mimetype": "text/x-python",
   "name": "python",
   "nbconvert_exporter": "python",
   "pygments_lexer": "ipython3",
   "version": "3.12.5"
  }
 },
 "nbformat": 4,
 "nbformat_minor": 5
}
